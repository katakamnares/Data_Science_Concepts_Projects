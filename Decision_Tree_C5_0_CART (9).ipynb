{
  "cells": [
    {
      "cell_type": "code",
      "execution_count": null,
      "metadata": {
        "id": "c3ql-xV0qMnR"
      },
      "outputs": [],
      "source": [
        "import pandas as pd\n",
        "import matplotlib.pyplot as plt\n",
        "import numpy as np\n",
        "from sklearn.model_selection import train_test_split\n",
        "from sklearn.tree import  DecisionTreeClassifier\n",
        "from sklearn import tree\n",
        "from sklearn.metrics import classification_report,accuracy_score\n",
        "from sklearn.preprocessing import LabelEncoder"
      ]
    },
    {
      "cell_type": "code",
      "execution_count": null,
      "metadata": {
        "id": "HWY7VK70qMnT"
      },
      "outputs": [],
      "source": [
        "# import some data to play with\n",
        "iris = pd.read_csv('iris.csv',index_col=0)"
      ]
    },
    {
      "cell_type": "code",
      "execution_count": null,
      "metadata": {
        "id": "kw0SihkhqMnU"
      },
      "outputs": [],
      "source": [
        "iris"
      ]
    },
    {
      "cell_type": "code",
      "source": [
        "iris['Species'].unique()"
      ],
      "metadata": {
        "id": "7A2flHyAj6K-"
      },
      "execution_count": null,
      "outputs": []
    },
    {
      "cell_type": "code",
      "execution_count": null,
      "metadata": {
        "id": "uohbVQlGqMnU"
      },
      "outputs": [],
      "source": [
        "#Complete Iris dataset\n",
        "label_encoder = LabelEncoder()\n",
        "iris['Species']= label_encoder.fit_transform(iris['Species'])"
      ]
    },
    {
      "cell_type": "code",
      "source": [
        "iris"
      ],
      "metadata": {
        "id": "UuT2NRtIFITf"
      },
      "execution_count": null,
      "outputs": []
    },
    {
      "cell_type": "code",
      "execution_count": null,
      "metadata": {
        "id": "ZEwvQmQ5OUTH"
      },
      "outputs": [],
      "source": [
        "iris.Species.unique()"
      ]
    },
    {
      "cell_type": "code",
      "execution_count": null,
      "metadata": {
        "id": "jZ3yMk1fqMnV"
      },
      "outputs": [],
      "source": [
        "x=iris.iloc[:,0:4]\n",
        "y=iris['Species']"
      ]
    },
    {
      "cell_type": "code",
      "execution_count": null,
      "metadata": {
        "id": "HH6HPQ6_qMnV"
      },
      "outputs": [],
      "source": [
        "x"
      ]
    },
    {
      "cell_type": "code",
      "execution_count": null,
      "metadata": {
        "id": "QOm82RpaqMnV"
      },
      "outputs": [],
      "source": [
        "y"
      ]
    },
    {
      "cell_type": "code",
      "execution_count": null,
      "metadata": {
        "id": "Snl-nohiqMnW"
      },
      "outputs": [],
      "source": [
        "iris.Species.value_counts()"
      ]
    },
    {
      "cell_type": "code",
      "execution_count": null,
      "metadata": {
        "id": "NhUIDI6OqMnW"
      },
      "outputs": [],
      "source": [
        "# Splitting data into training and testing data set\n",
        "x_train, x_test,y_train,y_test = train_test_split(x,y, test_size=0.2,random_state=40)"
      ]
    },
    {
      "cell_type": "markdown",
      "metadata": {
        "id": "5wrWT4USqMnX"
      },
      "source": [
        "### Building Decision Tree Classifier using Entropy Criteria"
      ]
    },
    {
      "cell_type": "code",
      "execution_count": null,
      "metadata": {
        "id": "xV811P9Ts_eg"
      },
      "outputs": [],
      "source": [
        "print(x_train.shape,x_test.shape,y_train.shape,y_test.shape)"
      ]
    },
    {
      "cell_type": "code",
      "source": [
        "x_train.head()"
      ],
      "metadata": {
        "id": "tytzsdyAGRL7"
      },
      "execution_count": null,
      "outputs": []
    },
    {
      "cell_type": "code",
      "execution_count": null,
      "metadata": {
        "id": "ceOJ1awuqMnX"
      },
      "outputs": [],
      "source": [
        "model = DecisionTreeClassifier(criterion = 'entropy',max_depth=3)\n",
        "model.fit(x_train,y_train)"
      ]
    },
    {
      "cell_type": "code",
      "execution_count": null,
      "metadata": {
        "id": "YaQbUUnwqMnX"
      },
      "outputs": [],
      "source": [
        "#PLot the decision tree\n",
        "tree.plot_tree(model)\n",
        "plt.show()"
      ]
    },
    {
      "cell_type": "code",
      "execution_count": null,
      "metadata": {
        "id": "k6buPj3UqMnY"
      },
      "outputs": [],
      "source": [
        "fn=['sepal length (cm)','sepal width (cm)','petal length (cm)','petal width (cm)']\n",
        "cn=['setosa', 'versicolor', 'virginica']\n",
        "fig, axes = plt.subplots(nrows = 1,ncols = 1,figsize = (6,2), dpi=300)\n",
        "tree.plot_tree(model,\n",
        "               feature_names = fn,\n",
        "               class_names=cn,\n",
        "               filled = True);"
      ]
    },
    {
      "cell_type": "code",
      "execution_count": null,
      "metadata": {
        "id": "_hu0NzDhqMnY"
      },
      "outputs": [],
      "source": [
        "#Predicting on test data\n",
        "preds = model.predict(x_test) # predicting on test data set\n",
        "pd.Series(preds).value_counts() # getting the count of each category"
      ]
    },
    {
      "cell_type": "code",
      "execution_count": null,
      "metadata": {
        "id": "ku7ZYFrZqMnY"
      },
      "outputs": [],
      "source": [
        "preds"
      ]
    },
    {
      "cell_type": "code",
      "execution_count": null,
      "metadata": {
        "id": "Y6MhNLKiRS1M"
      },
      "outputs": [],
      "source": [
        "y_test"
      ]
    },
    {
      "cell_type": "code",
      "execution_count": null,
      "metadata": {
        "id": "CBw7pdjTqMnZ"
      },
      "outputs": [],
      "source": [
        "print(classification_report(y_test,preds)) # getting the 2 way table to understand the correct and wrong predictions"
      ]
    },
    {
      "cell_type": "code",
      "execution_count": null,
      "metadata": {
        "id": "UPyq_zWEqMnZ"
      },
      "outputs": [],
      "source": [
        "accuracy_score(y_test,preds)"
      ]
    },
    {
      "cell_type": "code",
      "source": [
        "model.score(x_test,y_test)\n"
      ],
      "metadata": {
        "id": "TZxRbyLTehUf"
      },
      "execution_count": null,
      "outputs": []
    },
    {
      "cell_type": "code",
      "source": [
        "y_tr_pred=model.predict(x_train)\n",
        "accuracy_score(y_train,y_tr_pred)"
      ],
      "metadata": {
        "id": "IKMxvsXim4TU"
      },
      "execution_count": null,
      "outputs": []
    },
    {
      "cell_type": "markdown",
      "metadata": {
        "id": "GJ4eHaJBqMnZ"
      },
      "source": [
        "### Building Decision Tree Classifier (CART) using Gini Criteria"
      ]
    },
    {
      "cell_type": "code",
      "execution_count": null,
      "metadata": {
        "id": "vNbrBm1TqMnZ"
      },
      "outputs": [],
      "source": [
        "from sklearn.tree import DecisionTreeClassifier\n",
        "model_gini = DecisionTreeClassifier(criterion='gini',max_depth=3)"
      ]
    },
    {
      "cell_type": "code",
      "execution_count": null,
      "metadata": {
        "id": "J0QBgYsaqMna"
      },
      "outputs": [],
      "source": [
        "model_gini.fit(x_train, y_train)"
      ]
    },
    {
      "cell_type": "code",
      "execution_count": null,
      "metadata": {
        "id": "U6PLXbxdqMna"
      },
      "outputs": [],
      "source": [
        "#Prediction and computing the accuracy\n",
        "pred=model_gini.predict(x_test)\n",
        "np.mean(pred==y_test)"
      ]
    },
    {
      "cell_type": "markdown",
      "metadata": {
        "id": "ZVlZDRxGqMna"
      },
      "source": [
        "#### Decision Tree Regression Example"
      ]
    },
    {
      "cell_type": "code",
      "execution_count": null,
      "metadata": {
        "id": "tmo6kbOKqMna"
      },
      "outputs": [],
      "source": [
        "# Decision Tree Regression\n",
        "from sklearn.tree import DecisionTreeRegressor"
      ]
    },
    {
      "cell_type": "code",
      "source": [
        "\n",
        "iris.head()"
      ],
      "metadata": {
        "id": "1ibA_PfbAmzP"
      },
      "execution_count": null,
      "outputs": []
    },
    {
      "cell_type": "code",
      "source": [
        "X=iris.iloc[:,[0,1,2,4]] #iris.drop(['Petal.Width'],axis=1)\n",
        "y=iris['Petal.Width']"
      ],
      "metadata": {
        "id": "On_VmwTAA1nH"
      },
      "execution_count": null,
      "outputs": []
    },
    {
      "cell_type": "code",
      "execution_count": null,
      "metadata": {
        "id": "hZrDuSZPStBu"
      },
      "outputs": [],
      "source": [
        "X"
      ]
    },
    {
      "cell_type": "code",
      "execution_count": null,
      "metadata": {
        "id": "-Vh3ta9RqMnb"
      },
      "outputs": [],
      "source": [
        "X_train, X_test, y_train, y_test = train_test_split(X, y, test_size=0.33, random_state=43)"
      ]
    },
    {
      "cell_type": "code",
      "source": [
        "X_train"
      ],
      "metadata": {
        "id": "3wIpn7k1HgtT"
      },
      "execution_count": null,
      "outputs": []
    },
    {
      "cell_type": "code",
      "execution_count": null,
      "metadata": {
        "id": "5Ca23M3bqMnb"
      },
      "outputs": [],
      "source": [
        "model = DecisionTreeRegressor(criterion='squared_error',max_depth=7) #'absolute_error', 'friedman_mse', 'poisson', 'squared_error'\n",
        "model.fit(X_train, y_train)"
      ]
    },
    {
      "cell_type": "code",
      "source": [
        "tree.plot_tree(model)\n",
        "plt.show()"
      ],
      "metadata": {
        "id": "JjsWHiTiJljo"
      },
      "execution_count": null,
      "outputs": []
    },
    {
      "cell_type": "code",
      "execution_count": null,
      "metadata": {
        "id": "t6QQYxvsqMnb"
      },
      "outputs": [],
      "source": [
        "#Find the accuracy\n",
        "model.score(X_test,y_test)"
      ]
    },
    {
      "cell_type": "code",
      "execution_count": null,
      "metadata": {
        "id": "X9u4d-sGpCxC"
      },
      "outputs": [],
      "source": [
        "y_pred=model.predict(X_test)"
      ]
    },
    {
      "cell_type": "code",
      "execution_count": null,
      "metadata": {
        "id": "4htYDhSgqMnc"
      },
      "outputs": [],
      "source": [
        "from sklearn.metrics import r2_score\n",
        "r2_score(y_test,y_pred)"
      ]
    },
    {
      "cell_type": "code",
      "execution_count": null,
      "metadata": {
        "id": "l1DSnPmMqnJp"
      },
      "outputs": [],
      "source": [
        "#training r2_score\n",
        "y_tr_pred=model.predict(X_train)\n",
        "\n",
        "r2_score(y_train,y_tr_pred)"
      ]
    },
    {
      "cell_type": "code",
      "source": [],
      "metadata": {
        "id": "KXjrF9hkJfsB"
      },
      "execution_count": null,
      "outputs": []
    }
  ],
  "metadata": {
    "colab": {
      "provenance": []
    },
    "kernelspec": {
      "display_name": "Python 3",
      "language": "python",
      "name": "python3"
    },
    "language_info": {
      "codemirror_mode": {
        "name": "ipython",
        "version": 3
      },
      "file_extension": ".py",
      "mimetype": "text/x-python",
      "name": "python",
      "nbconvert_exporter": "python",
      "pygments_lexer": "ipython3",
      "version": "3.7.4"
    }
  },
  "nbformat": 4,
  "nbformat_minor": 0
}