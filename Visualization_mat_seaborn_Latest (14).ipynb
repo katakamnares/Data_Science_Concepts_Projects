{
  "cells": [
    {
      "cell_type": "code",
      "execution_count": null,
      "metadata": {
        "id": "QweWdcZ_nZ4D"
      },
      "outputs": [],
      "source": [
        "#install and then import matplotlib\n",
        "import matplotlib.pyplot as plt"
      ]
    },
    {
      "cell_type": "code",
      "source": [
        "dir(plt)"
      ],
      "metadata": {
        "id": "go_b8uaG8eLU"
      },
      "execution_count": null,
      "outputs": []
    },
    {
      "cell_type": "code",
      "execution_count": null,
      "metadata": {
        "id": "8X0Il_f1nZ4I"
      },
      "outputs": [],
      "source": [
        "#matplotlib to render plots in the notebook\n",
        "%matplotlib inline"
      ]
    },
    {
      "cell_type": "code",
      "execution_count": null,
      "metadata": {
        "id": "PAfVoG3xnZ4K"
      },
      "outputs": [],
      "source": [
        "x = [1,2,3,4,5,6,7,8,9]"
      ]
    },
    {
      "cell_type": "code",
      "source": [
        "y=[]\n",
        "for i in x:\n",
        "  y.append(i**2)"
      ],
      "metadata": {
        "id": "EE6cpcmd9PGw"
      },
      "execution_count": null,
      "outputs": []
    },
    {
      "cell_type": "code",
      "source": [
        "y"
      ],
      "metadata": {
        "id": "Ko78gv5q9a-n"
      },
      "execution_count": null,
      "outputs": []
    },
    {
      "cell_type": "code",
      "execution_count": null,
      "metadata": {
        "id": "DYZJI0PfnZ4N"
      },
      "outputs": [],
      "source": [
        "y = [i**2 for i in x]\n",
        "y"
      ]
    },
    {
      "cell_type": "markdown",
      "source": [],
      "metadata": {
        "id": "ZMbzWMR4ipin"
      }
    },
    {
      "cell_type": "code",
      "execution_count": null,
      "metadata": {
        "id": "ur8o7DQvaxgs"
      },
      "outputs": [],
      "source": [
        "plt.plot(x,y)"
      ]
    },
    {
      "cell_type": "code",
      "source": [
        "plt.plot(y,x)\n",
        "plt.show()"
      ],
      "metadata": {
        "id": "0sORanhJpFhE"
      },
      "execution_count": null,
      "outputs": []
    },
    {
      "cell_type": "code",
      "source": [
        "z=[i**3 for i in x]"
      ],
      "metadata": {
        "id": "S6vZaWK1awqL"
      },
      "execution_count": null,
      "outputs": []
    },
    {
      "cell_type": "code",
      "execution_count": null,
      "metadata": {
        "id": "4ygzI_bznZ4P"
      },
      "outputs": [],
      "source": [
        "fig = plt.figure(figsize=(15,5))\n",
        "\n",
        "plt.plot(x, y,label=\"line 1\")\n",
        "plt.plot(x,z,label=\"line 2\")\n",
        "plt.ylim(1,100)\n",
        "plt.xlim(1,10)\n",
        "plt.xlabel('Numbers')\n",
        "plt.ylabel('squares')\n",
        "plt.title('Line Plot')\n",
        "plt.suptitle('Numbers_Squares plot', size=20, y=1.03)\n",
        "plt.legend()\n",
        "plt.show()"
      ]
    },
    {
      "cell_type": "code",
      "source": [
        "fig.savefig(\"num_sq.png\",bbox_inches=\"tight\",dpi=400)"
      ],
      "metadata": {
        "id": "MsPMX4dJeSY1"
      },
      "execution_count": null,
      "outputs": []
    },
    {
      "cell_type": "code",
      "source": [
        "help(plt.plot)"
      ],
      "metadata": {
        "id": "uEJ1LJTidCzc"
      },
      "execution_count": null,
      "outputs": []
    },
    {
      "cell_type": "code",
      "source": [
        "plt.plot(x,y,\n",
        "         marker=\"8\",\n",
        "         markerfacecolor=\"red\",\n",
        "         markeredgecolor=\"black\",\n",
        "         linestyle=\"solid\",\n",
        "         color=\"green\")\n",
        "plt.show()"
      ],
      "metadata": {
        "id": "4wG7yPzsqHQp",
        "collapsed": true
      },
      "execution_count": null,
      "outputs": []
    },
    {
      "cell_type": "code",
      "source": [
        "plt.plot(x,y,\"g-8\")"
      ],
      "metadata": {
        "collapsed": true,
        "id": "B-inBJYnetkc"
      },
      "execution_count": null,
      "outputs": []
    },
    {
      "cell_type": "code",
      "execution_count": null,
      "metadata": {
        "id": "5ULst2UUksrw",
        "collapsed": true
      },
      "outputs": [],
      "source": [
        "plt.plot(x, y,'^k:',markerfacecolor='red')\n",
        "plt.show()"
      ]
    },
    {
      "cell_type": "code",
      "source": [],
      "metadata": {
        "id": "OfLxnBkk07r9"
      },
      "execution_count": null,
      "outputs": []
    },
    {
      "cell_type": "code",
      "execution_count": null,
      "metadata": {
        "id": "7S2k6bBZnZ4S"
      },
      "outputs": [],
      "source": [
        "fig.savefig('example.png', dpi=300, bbox_inches='tight')"
      ]
    },
    {
      "cell_type": "markdown",
      "source": [],
      "metadata": {
        "id": "x27MKySJ-00O"
      }
    },
    {
      "cell_type": "code",
      "source": [],
      "metadata": {
        "id": "Ub29K_ZxtBSI"
      },
      "execution_count": null,
      "outputs": []
    },
    {
      "cell_type": "code",
      "execution_count": null,
      "metadata": {
        "id": "M9YNVwJAnZ4d"
      },
      "outputs": [],
      "source": [
        "fig, ax = plt.subplots(nrows=1, ncols=1)"
      ]
    },
    {
      "cell_type": "code",
      "execution_count": null,
      "metadata": {
        "id": "-oEJCo_knZ4f"
      },
      "outputs": [],
      "source": [
        "# More than one Axes with plt.subplots, then the second item in the tuple is a NumPy array containing all the Axes\n",
        "fig, axs = plt.subplots(2, 4)"
      ]
    },
    {
      "cell_type": "markdown",
      "metadata": {
        "id": "l-y9Jux9nZ4h"
      },
      "source": [
        "#### Matplotlib"
      ]
    },
    {
      "cell_type": "code",
      "source": [
        "import pandas as pd\n",
        "import numpy as np\n",
        "import matplotlib.pyplot as plt\n",
        "\n",
        "mtcars=pd.read_csv(\"mtcars.csv\")"
      ],
      "metadata": {
        "id": "Hia-mMmm8MQV"
      },
      "execution_count": null,
      "outputs": []
    },
    {
      "cell_type": "code",
      "execution_count": null,
      "metadata": {
        "id": "ZvZR9Ld7hy-v"
      },
      "outputs": [],
      "source": [
        "mtcars.head()"
      ]
    },
    {
      "cell_type": "markdown",
      "source": [
        "| Column | Description                         | Recommended Type     | Reason                                       |\n",
        "| ------ | ----------------------------------- | -------------------- | -------------------------------------------- |\n",
        "| `mpg`  | Miles per gallon                    | `float64`            | Continuous variable                          |\n",
        "| `cyl`  | Number of cylinders                 | `category`           | Discrete set of known values (e.g., 4, 6, 8) |\n",
        "| `disp` | Displacement (cu.in.)               | `float64`            | Continuous variable                          |\n",
        "| `hp`   | Gross horsepower                    | `int64` or `float64` | Continuous variable (could have decimals)    |\n",
        "| `drat` | Rear axle ratio                     | `float64`            | Continuous variable                          |\n",
        "| `wt`   | Weight (1000 lbs)                   | `float64`            | Continuous variable                          |\n",
        "| `qsec` | 1/4 mile time                       | `float64`            | Continuous variable                          |\n",
        "| `vs`   | Engine (0 = V-shaped, 1 = straight) | `category`           | Binary categorical                           |\n",
        "| `am`   | Transmission (0 = auto, 1 = manual) | `category`           | Binary categorical                           |\n",
        "| `gear` | Number of forward gears             | `category`           | Discrete values (e.g., 3, 4, 5)              |\n",
        "| `carb` | Number of carburetors               | `category`           | Discrete count (e.g., 1, 2, 4, 6, 8)         |\n"
      ],
      "metadata": {
        "id": "YvF-b7jB7cmy"
      }
    },
    {
      "cell_type": "code",
      "source": [
        "mtcars.info()"
      ],
      "metadata": {
        "id": "dS5Cp5AJJAeI"
      },
      "execution_count": null,
      "outputs": []
    },
    {
      "cell_type": "code",
      "source": [
        "mtcars.cyl.value_counts().plot(kind='bar',color='red')"
      ],
      "metadata": {
        "id": "BKEWYp-79dLz"
      },
      "execution_count": null,
      "outputs": []
    },
    {
      "cell_type": "code",
      "source": [
        "help(mtcars.cyl.value_counts().plot)"
      ],
      "metadata": {
        "id": "fSnW3-YaBv2B"
      },
      "execution_count": null,
      "outputs": []
    },
    {
      "cell_type": "code",
      "source": [
        "mtcars.carb.value_counts().plot(kind='pie',autopct=\"%.3f%%\")"
      ],
      "metadata": {
        "id": "MPUw_4eH-Gfy"
      },
      "execution_count": null,
      "outputs": []
    },
    {
      "cell_type": "code",
      "execution_count": null,
      "metadata": {
        "id": "lCZ0GKRenZ4p"
      },
      "outputs": [],
      "source": [
        "mtcars.shape"
      ]
    },
    {
      "cell_type": "code",
      "execution_count": null,
      "metadata": {
        "id": "5oN2RhqHnZ4r"
      },
      "outputs": [],
      "source": [
        "mtcars.cyl"
      ]
    },
    {
      "cell_type": "code",
      "source": [
        "cyl=mtcars.cyl.value_counts()\n",
        "cyl"
      ],
      "metadata": {
        "id": "G5HM45rfjeaj"
      },
      "execution_count": null,
      "outputs": []
    },
    {
      "cell_type": "code",
      "source": [
        "plt.bar(cyl.index,cyl)"
      ],
      "metadata": {
        "collapsed": true,
        "id": "8yfWOgsxANkQ"
      },
      "execution_count": null,
      "outputs": []
    },
    {
      "cell_type": "code",
      "source": [
        "plt.bar(x=[\"Eight\",\"Four\",\"Six\"],height=cyl)"
      ],
      "metadata": {
        "collapsed": true,
        "id": "10nL9ZPBAsJo"
      },
      "execution_count": null,
      "outputs": []
    },
    {
      "cell_type": "code",
      "source": [
        "plt.pie(cyl)\n",
        "plt.show()"
      ],
      "metadata": {
        "id": "0aFfumBPBn4d"
      },
      "execution_count": null,
      "outputs": []
    },
    {
      "cell_type": "code",
      "source": [
        "pie_fig=plt.figure(figsize=(10,4))\n",
        "plt.pie(cyl,labels=cyl.index,autopct=\"%.2f%%\",colors=['red','blue','green'],explode=[0.23,0,0.1])\n",
        "plt.show()"
      ],
      "metadata": {
        "id": "ySCtOM7gB-BB"
      },
      "execution_count": null,
      "outputs": []
    },
    {
      "cell_type": "code",
      "source": [
        "pie_fig.savefig(\"exploded_Pie.jpeg\",dpi=250,bbox_inches=\"tight\")"
      ],
      "metadata": {
        "id": "JJhmv3qEnZfl"
      },
      "execution_count": null,
      "outputs": []
    },
    {
      "cell_type": "code",
      "execution_count": null,
      "metadata": {
        "id": "dGg6XWPWd__7"
      },
      "outputs": [],
      "source": [
        "fig=plt.figure()\n",
        "mtcars.cyl.value_counts().plot(kind='pie')"
      ]
    },
    {
      "cell_type": "code",
      "execution_count": null,
      "metadata": {
        "id": "liy6Fpfo1fJi"
      },
      "outputs": [],
      "source": [
        "fig.savefig('ex2.jpeg',dpi=300,bbox_inches='tight')"
      ]
    },
    {
      "cell_type": "code",
      "source": [
        "mtcars.gear.unique()"
      ],
      "metadata": {
        "id": "EBVD94fIA4lz"
      },
      "execution_count": null,
      "outputs": []
    },
    {
      "cell_type": "code",
      "source": [
        "len(mtcars[(mtcars.gear==5)&(mtcars.cyl==8)])"
      ],
      "metadata": {
        "id": "k4miTB_Pk4YF"
      },
      "execution_count": null,
      "outputs": []
    },
    {
      "cell_type": "code",
      "execution_count": null,
      "metadata": {
        "id": "WommxAHZnZ4v"
      },
      "outputs": [],
      "source": [
        "# table\n",
        "pd.crosstab(mtcars.gear,mtcars.cyl)"
      ]
    },
    {
      "cell_type": "code",
      "execution_count": null,
      "metadata": {
        "id": "gd_GXjZInZ4x"
      },
      "outputs": [],
      "source": [
        "# bar plot between 2 different categories\n",
        "pd.crosstab(mtcars.gear,mtcars.cyl).plot(kind=\"bar\")\n",
        "plt.ylabel(\"Frequency\")"
      ]
    },
    {
      "cell_type": "code",
      "source": [
        "freq_data=mtcars.carb.value_counts()\n",
        "plt.bar(freq_data.index,freq_data)"
      ],
      "metadata": {
        "id": "DAl8veE-MkIu"
      },
      "execution_count": null,
      "outputs": []
    },
    {
      "cell_type": "code",
      "source": [
        "plt.pie(freq_data,labels=freq_data.index)\n",
        "plt.show()"
      ],
      "metadata": {
        "id": "dOKFaHSYNm4u"
      },
      "execution_count": null,
      "outputs": []
    },
    {
      "cell_type": "code",
      "execution_count": null,
      "metadata": {
        "id": "eRPMh9ht8f6W"
      },
      "outputs": [],
      "source": [
        "print(mtcars.carb.value_counts())\n",
        "mtcars.carb.value_counts().plot(kind='bar')"
      ]
    },
    {
      "cell_type": "code",
      "execution_count": null,
      "metadata": {
        "id": "E0Ve7ecYnZ4z"
      },
      "outputs": [],
      "source": [
        "print(mtcars[\"gear\"].value_counts())\n",
        "mtcars.gear.value_counts().plot(kind=\"pie\")"
      ]
    },
    {
      "cell_type": "code",
      "source": [
        "mtcars.cyl.value_counts()\n",
        "plt.bar(mtcars.cyl.value_counts().index,mtcars.cyl.value_counts())"
      ],
      "metadata": {
        "id": "MGJFGcpPdP8w"
      },
      "execution_count": null,
      "outputs": []
    },
    {
      "cell_type": "code",
      "source": [
        "plt.bar(mtcars['gear'])"
      ],
      "metadata": {
        "id": "HtY6pDOvHPyG"
      },
      "execution_count": null,
      "outputs": []
    },
    {
      "cell_type": "code",
      "execution_count": null,
      "metadata": {
        "id": "v6EkW8pql-k2"
      },
      "outputs": [],
      "source": [
        "p=mtcars.gear.value_counts()\n",
        "print(p)\n",
        "plt.pie(p,labels=p.index)"
      ]
    },
    {
      "cell_type": "code",
      "source": [
        "plt.bar(p.index,p)"
      ],
      "metadata": {
        "id": "1w_nc0mrWlnU"
      },
      "execution_count": null,
      "outputs": []
    },
    {
      "cell_type": "code",
      "execution_count": null,
      "metadata": {
        "id": "PVt60Ffbl-fw"
      },
      "outputs": [],
      "source": [
        "plt.bar([\"Three\",\"Four\",\"Five\"],p)"
      ]
    },
    {
      "cell_type": "code",
      "source": [
        "ct=pd.crosstab(mtcars.vs,mtcars.carb)\n",
        "ct.plot(kind='bar',stacked=True)"
      ],
      "metadata": {
        "id": "VtXWRXkPJKpz"
      },
      "execution_count": null,
      "outputs": []
    },
    {
      "cell_type": "code",
      "execution_count": null,
      "metadata": {
        "id": "nS4W0mSPnZ46"
      },
      "outputs": [],
      "source": [
        "plt.figure(figsize=(15,8))\n",
        "plt.scatter(mtcars.mpg,mtcars.disp,c=\"purple\")## scatter plot of two variables\n",
        "plt.xlabel(\"Miles per gallon\")\n",
        "plt.ylabel(\"displacment\")\n",
        "plt.ylim(50,500)\n",
        "plt.show()"
      ]
    },
    {
      "cell_type": "code",
      "source": [
        "plt.scatter(mtcars.qsec,mtcars.drat)"
      ],
      "metadata": {
        "id": "s6Sty1eS6RhH"
      },
      "execution_count": null,
      "outputs": []
    },
    {
      "cell_type": "code",
      "execution_count": null,
      "metadata": {
        "id": "VDXquj7xrsav"
      },
      "outputs": [],
      "source": [
        "mtcars['mpg'].plot(kind='kde')    #kernel density estimator\n",
        "plt.show()"
      ]
    },
    {
      "cell_type": "code",
      "source": [
        "mtcars.mpg.skew()"
      ],
      "metadata": {
        "id": "ySzeaB2IFH8w"
      },
      "execution_count": null,
      "outputs": []
    },
    {
      "cell_type": "code",
      "execution_count": null,
      "metadata": {
        "id": "KE7H-SkvnZ48"
      },
      "outputs": [],
      "source": [
        "# Graphical Representation of data\n",
        "#import matplotlib.pyplot as plt\n",
        "# Histogram\n",
        "plt.hist(mtcars['mpg'],bins=8,alpha=0.8)\n",
        "plt.show()"
      ]
    },
    {
      "cell_type": "code",
      "source": [
        "help(plt.hist)"
      ],
      "metadata": {
        "id": "ipfyafbDSMMb"
      },
      "execution_count": null,
      "outputs": []
    },
    {
      "cell_type": "code",
      "execution_count": null,
      "metadata": {
        "id": "Gfr6Zby0nZ4-"
      },
      "outputs": [],
      "source": [
        "plt.hist(mtcars['mpg'],facecolor =\"peru\",edgecolor =\"blue\",bins =8)\n",
        "plt.show()\n",
        "#creates histogram with 8bins and colours filled init."
      ]
    },
    {
      "cell_type": "code",
      "source": [],
      "metadata": {
        "id": "XKP7FVyETHm0"
      },
      "execution_count": null,
      "outputs": []
    },
    {
      "cell_type": "code",
      "execution_count": null,
      "metadata": {
        "id": "dwztDftYnZ5A",
        "collapsed": true
      },
      "outputs": [],
      "source": [
        "#Boxplot\n",
        "#help(plt.boxplot)\n",
        "plt.boxplot(mtcars['mpg'],vert = True)\n",
        "plt.show()"
      ]
    },
    {
      "cell_type": "code",
      "source": [
        "plt.boxplot(mtcars[\"mpg\"])\n"
      ],
      "metadata": {
        "id": "nW24yOFmxOGk"
      },
      "execution_count": null,
      "outputs": []
    },
    {
      "cell_type": "code",
      "execution_count": null,
      "metadata": {
        "id": "4IfbGudInZ5C"
      },
      "outputs": [],
      "source": [
        "plt.boxplot(mtcars['mpg'],vert =False);\n",
        "plt.ylabel(\"MPG\");\n",
        "plt.xlabel(\"values\");\n",
        "plt.title(\"Boxplot\")  # for Horizontal\n"
      ]
    },
    {
      "cell_type": "code",
      "execution_count": null,
      "metadata": {
        "id": "O0IuI0DInZ5E"
      },
      "outputs": [],
      "source": [
        "#Violin Plot\n",
        "plt.violinplot('mpg',vert=False,data=mtcars)\n",
        "plt.show()"
      ]
    },
    {
      "cell_type": "code",
      "execution_count": null,
      "metadata": {
        "id": "z5_YWva9sOc-"
      },
      "outputs": [],
      "source": [
        "plt.violinplot(mtcars['mpg'],vert=True)"
      ]
    },
    {
      "cell_type": "markdown",
      "metadata": {
        "id": "cBaipI82nZ5c"
      },
      "source": [
        "# seaborn"
      ]
    },
    {
      "cell_type": "code",
      "execution_count": null,
      "metadata": {
        "id": "pCovzCbonZ5c"
      },
      "outputs": [],
      "source": [
        "import pandas as pd\n",
        "import matplotlib.pyplot as plt\n",
        "import seaborn as sns"
      ]
    },
    {
      "cell_type": "code",
      "source": [
        "sns.get_dataset_names()"
      ],
      "metadata": {
        "id": "QQvcDVv5bACc"
      },
      "execution_count": null,
      "outputs": []
    },
    {
      "cell_type": "code",
      "source": [
        "dir(sns)"
      ],
      "metadata": {
        "id": "njNRyN0AuZWO"
      },
      "execution_count": null,
      "outputs": []
    },
    {
      "cell_type": "code",
      "execution_count": null,
      "metadata": {
        "id": "NFEw7V20nZ5e"
      },
      "outputs": [],
      "source": [
        "tips =sns.load_dataset('tips')"
      ]
    },
    {
      "cell_type": "code",
      "execution_count": null,
      "metadata": {
        "id": "uvW-2Yy9nZ5g"
      },
      "outputs": [],
      "source": [
        "tips"
      ]
    },
    {
      "cell_type": "code",
      "source": [
        "tips.dtypes"
      ],
      "metadata": {
        "id": "KUIf3zunyQC-"
      },
      "execution_count": null,
      "outputs": []
    },
    {
      "cell_type": "markdown",
      "metadata": {
        "id": "gwepy3MJnZ5q"
      },
      "source": [
        "## Univariate → “one variable” data visualization"
      ]
    },
    {
      "cell_type": "code",
      "execution_count": null,
      "metadata": {
        "id": "9yvW6r-FnZ5q"
      },
      "outputs": [],
      "source": [
        "\n",
        "#strip plot\n",
        "\n",
        "sns.stripplot(tips['tip'])\n",
        "plt.ylabel('tip ($)')\n",
        "plt.show()"
      ]
    },
    {
      "cell_type": "code",
      "source": [
        "tips.day.unique()"
      ],
      "metadata": {
        "id": "8tQbDxOgHXK0"
      },
      "execution_count": null,
      "outputs": []
    },
    {
      "cell_type": "code",
      "execution_count": null,
      "metadata": {
        "id": "naml9-dqnZ5t"
      },
      "outputs": [],
      "source": [
        "#Grouping with stripplot()\n",
        "sns.stripplot(y='tip', data=tips,jitter=False)\n",
        "plt.ylabel('tip ($)')\n",
        "plt.show()"
      ]
    },
    {
      "cell_type": "code",
      "execution_count": null,
      "metadata": {
        "id": "59nZsoX2nZ5v"
      },
      "outputs": [],
      "source": [
        "sns.stripplot(x='day', y='tip', data=tips, size=3,jitter=True)\n",
        "plt.ylabel('tip ($)')\n",
        "plt.show()"
      ]
    },
    {
      "cell_type": "code",
      "execution_count": null,
      "metadata": {
        "id": "qRhuTDd4nZ5x"
      },
      "outputs": [],
      "source": [
        "#Swarm plot\n",
        "\n",
        "sns.swarmplot(x='day', y='total_bill', data=tips)\n",
        "plt.ylabel('total bill ($)')\n",
        "plt.show()\n"
      ]
    },
    {
      "cell_type": "code",
      "execution_count": null,
      "metadata": {
        "id": "G6g9dEhtnZ50"
      },
      "outputs": [],
      "source": [
        "sns.swarmplot(x='day', y='total_bill', data=tips, hue='sex')\n",
        "plt.ylabel('total_bill ($)')\n",
        "plt.show()"
      ]
    },
    {
      "cell_type": "code",
      "source": [
        "import warnings\n",
        "warnings.filterwarnings('ignore')"
      ],
      "metadata": {
        "id": "tnzC4gbKfq1O"
      },
      "execution_count": null,
      "outputs": []
    },
    {
      "cell_type": "code",
      "execution_count": null,
      "metadata": {
        "id": "GTGvh_HNnZ52"
      },
      "outputs": [],
      "source": [
        "#Changing orientation\n",
        "sns.swarmplot(x='tip', y='day', data=tips, hue='smoker',orient='h')\n",
        "plt.xlabel('tip ($)')\n",
        "plt.show()\n"
      ]
    },
    {
      "cell_type": "code",
      "source": [
        "sns.swarmplot(x=\"smoker\",y='total_bill',data=tips,hue='sex')"
      ],
      "metadata": {
        "id": "-8Mkm5rgWtTM"
      },
      "execution_count": null,
      "outputs": []
    },
    {
      "cell_type": "code",
      "source": [
        "help(sns.swarmplot)"
      ],
      "metadata": {
        "id": "rKxagbWHhB6u"
      },
      "execution_count": null,
      "outputs": []
    },
    {
      "cell_type": "markdown",
      "metadata": {
        "id": "BDnEr2d-nZ54"
      },
      "source": [
        "### Box and Violin plot"
      ]
    },
    {
      "cell_type": "code",
      "execution_count": null,
      "metadata": {
        "id": "81HzwK2vnZ54"
      },
      "outputs": [],
      "source": [
        "#plt.subplot(1,2,1)\n",
        "sns.boxplot(x='day', y='total_bill', data=tips,hue='time')\n",
        "plt.ylabel('Total_bill ($)')\n",
        "plt.show()"
      ]
    },
    {
      "cell_type": "code",
      "source": [
        "sns.boxplot(tips['total_bill'])"
      ],
      "metadata": {
        "id": "_xbynXoTiDf-"
      },
      "execution_count": null,
      "outputs": []
    },
    {
      "cell_type": "code",
      "source": [
        "#plt.subplot(1,2,1)\n",
        "sns.boxplot(y='total_bill',x='time', data=tips,hue='day',legend='auto')\n",
        "plt.ylabel('Total_bill ($)')\n",
        "plt.show()"
      ],
      "metadata": {
        "id": "_AMvH319N4Pg"
      },
      "execution_count": null,
      "outputs": []
    },
    {
      "cell_type": "code",
      "execution_count": null,
      "metadata": {
        "id": "ExShL4IfnZ56"
      },
      "outputs": [],
      "source": [
        "#plt.subplot(1,2,2)\n",
        "sns.violinplot(x='day', y='tip', data=tips,hue='sex',inner=None)\n",
        "plt.ylabel('tip ($)')\n",
        "\n",
        "plt.show()"
      ]
    },
    {
      "cell_type": "code",
      "source": [
        "sns.barplot(x='day',y=\"smoker\",data=tips)"
      ],
      "metadata": {
        "id": "Wd14vJcaAbVg"
      },
      "execution_count": null,
      "outputs": []
    },
    {
      "cell_type": "code",
      "source": [
        "pd.crosstab(tips['smoker'],tips['day']).plot(kind='bar')"
      ],
      "metadata": {
        "id": "Df0qBl1MAk5p"
      },
      "execution_count": null,
      "outputs": []
    },
    {
      "cell_type": "code",
      "execution_count": null,
      "metadata": {
        "id": "5vIAo13FnZ58"
      },
      "outputs": [],
      "source": [
        "plt.subplot(1,2,1)\n",
        "sns.violinplot(x='day', y='total_bill', data=tips)\n",
        "plt.ylabel('tip ($)')\n",
        "plt.subplot(1,2,2)\n",
        "sns.boxplot(x='time', y='tip', data=tips)\n",
        "plt.ylabel('tip ($)')\n",
        "\n",
        "plt.show()"
      ]
    },
    {
      "cell_type": "code",
      "execution_count": null,
      "metadata": {
        "id": "NIvIm3o2nZ5-"
      },
      "outputs": [],
      "source": [
        "##Combining plots\n",
        "\n",
        "sns.violinplot(x='day', y='tip', data=tips, inner=None,color='lightgray')\n",
        "#sns.boxplot(x='day', y='tip', data=tips,hue=\"day\")\n",
        "sns.stripplot(x='day', y='tip', data=tips, size=4,jitter=True)\n",
        "plt.ylabel('tip ($)')\n",
        "plt.show()"
      ]
    },
    {
      "cell_type": "code",
      "source": [
        "plt.hist(tips['tip'],density=True)\n",
        "tips['tip'].plot(kind=\"kde\")"
      ],
      "metadata": {
        "id": "R39RtFygdWhd"
      },
      "execution_count": null,
      "outputs": []
    },
    {
      "cell_type": "code",
      "source": [
        "sns.distplot(tips.total_bill)"
      ],
      "metadata": {
        "id": "ERqpkgPxUXWc"
      },
      "execution_count": null,
      "outputs": []
    },
    {
      "cell_type": "code",
      "source": [
        "sns.histplot(tips.tip)"
      ],
      "metadata": {
        "id": "p1JG9FmW1-G4"
      },
      "execution_count": null,
      "outputs": []
    },
    {
      "cell_type": "code",
      "source": [
        "tips.total_bill.skew()"
      ],
      "metadata": {
        "id": "n6RAQwBA2cqP"
      },
      "execution_count": null,
      "outputs": []
    },
    {
      "cell_type": "markdown",
      "metadata": {
        "id": "eotqlD1onZ6C"
      },
      "source": [
        "## Bivariate → “two variables” data visualization"
      ]
    },
    {
      "cell_type": "code",
      "execution_count": null,
      "metadata": {
        "id": "5vMcvzBxnZ6C",
        "collapsed": true
      },
      "outputs": [],
      "source": [
        "#Joint plot\n",
        "\n",
        "sns.jointplot(x= 'total_bill', y= 'tip', data=tips)\n",
        "plt.show()"
      ]
    },
    {
      "cell_type": "code",
      "execution_count": null,
      "metadata": {
        "id": "W0-CzUmknZ6D"
      },
      "outputs": [],
      "source": [
        "# Density plot\n",
        "sns.jointplot(x='total_bill', y= 'tip', data=tips,kind='hex')\n",
        "plt.show()\n",
        "#kinds-kde,scatter,hist,reg,hex,resid"
      ]
    },
    {
      "cell_type": "code",
      "source": [
        "sns.kdeplot(tips.total_bill)"
      ],
      "metadata": {
        "id": "3XMQb1HjmrDj"
      },
      "execution_count": null,
      "outputs": []
    },
    {
      "cell_type": "code",
      "source": [
        "df=pd.DataFrame({\n",
        "    \"col\":[1,30,34],\n",
        "    \"col2\":[56,23,10]\n",
        "})\n",
        "df"
      ],
      "metadata": {
        "id": "NEXpbfeolC7N"
      },
      "execution_count": null,
      "outputs": []
    },
    {
      "cell_type": "code",
      "source": [
        "sns.heatmap(df)"
      ],
      "metadata": {
        "id": "S0R-LBIu44HO"
      },
      "execution_count": null,
      "outputs": []
    },
    {
      "cell_type": "code",
      "source": [
        "df"
      ],
      "metadata": {
        "id": "T60q3VcylpQW"
      },
      "execution_count": null,
      "outputs": []
    },
    {
      "cell_type": "code",
      "execution_count": null,
      "metadata": {
        "id": "GeCxIRyBnZ6J"
      },
      "outputs": [],
      "source": [
        "#Pair plot\n",
        "\n",
        "sns.pairplot(tips)\n",
        "plt.show()"
      ]
    },
    {
      "cell_type": "code",
      "execution_count": null,
      "metadata": {
        "id": "oqIXUZjGnZ6M"
      },
      "outputs": [],
      "source": [
        "sns.pairplot(tips, hue='sex',palette=\"Set1\")\n",
        "plt.show()"
      ]
    },
    {
      "cell_type": "code",
      "source": [],
      "metadata": {
        "id": "fp7I-We-UOri"
      },
      "execution_count": null,
      "outputs": []
    },
    {
      "cell_type": "markdown",
      "metadata": {
        "id": "Vq_D038GnZ6W"
      },
      "source": [
        "# Titanic data visualization"
      ]
    },
    {
      "cell_type": "code",
      "execution_count": null,
      "metadata": {
        "id": "FSUht7uinZ6W"
      },
      "outputs": [],
      "source": [
        "import numpy as np\n",
        "import pandas as pd\n",
        "import matplotlib.pyplot as plt\n",
        "import seaborn as sns\n",
        "%matplotlib inline\n",
        "\n",
        "import warnings\n",
        "warnings.filterwarnings(\"ignore\")\n",
        "\n"
      ]
    },
    {
      "cell_type": "code",
      "source": [
        "sns.load_dataset('titanic')"
      ],
      "metadata": {
        "id": "OOPUkRaER7-_"
      },
      "execution_count": null,
      "outputs": []
    },
    {
      "cell_type": "markdown",
      "metadata": {
        "id": "rMTdpD_rnZ6a"
      },
      "source": [
        "### Loading dataset"
      ]
    },
    {
      "cell_type": "code",
      "execution_count": null,
      "metadata": {
        "id": "k6LP9bQAnZ6a"
      },
      "outputs": [],
      "source": [
        "data = pd.read_csv(\"train.csv\")\n",
        "data.head(10)"
      ]
    },
    {
      "cell_type": "markdown",
      "metadata": {
        "id": "Q4Q77V2CnZ6d"
      },
      "source": [
        "\n",
        "#survival - Survival (0 = No; 1 = Yes)\n",
        "class - Passenger Class (1 = 1st; 2 = 2nd; 3 = 3rd)\n",
        "name - Name\n",
        "sex - Sex\n",
        "age - Age\n",
        "sibsp - Number of Siblings/Spouses Aboard\n",
        "parch - Number of Parents/Children Aboard\n",
        "ticket - Ticket Number\n",
        "fare - Passenger Fare\n",
        "cabin - Cabin\n",
        "embarked - Port of Embarkation (C = Cherbourg; Q = Queenstown; S = Southampton)"
      ]
    },
    {
      "cell_type": "markdown",
      "metadata": {
        "id": "WRqd85_snZ6d"
      },
      "source": [
        "### Data types"
      ]
    },
    {
      "cell_type": "code",
      "execution_count": null,
      "metadata": {
        "id": "2cnKVMyBnZ6d"
      },
      "outputs": [],
      "source": [
        "print(data.dtypes)"
      ]
    },
    {
      "cell_type": "markdown",
      "metadata": {
        "id": "_WVg9ZewnZ6h"
      },
      "source": [
        "### Proportion of target (Survived)"
      ]
    },
    {
      "cell_type": "code",
      "execution_count": null,
      "metadata": {
        "id": "vaVuFgnDnZ6h",
        "collapsed": true
      },
      "outputs": [],
      "source": [
        "data.groupby('Survived')['PassengerId'].count()\n"
      ]
    },
    {
      "cell_type": "code",
      "execution_count": null,
      "metadata": {
        "id": "3lXim9QRucZx",
        "collapsed": true
      },
      "outputs": [],
      "source": [
        "data.Survived.value_counts()"
      ]
    },
    {
      "cell_type": "markdown",
      "metadata": {
        "id": "NoV7ltEonZ6k"
      },
      "source": [
        "### Visual Exploration"
      ]
    },
    {
      "cell_type": "code",
      "execution_count": null,
      "metadata": {
        "id": "knNdLJFDnZ6k",
        "collapsed": true
      },
      "outputs": [],
      "source": [
        "f, ax = plt.subplots(figsize=(11,5))\n",
        "sns.boxplot(x='Survived', y=\"Age\",  data=data);\n",
        "plt.show()"
      ]
    },
    {
      "cell_type": "code",
      "execution_count": null,
      "metadata": {
        "id": "gS1h-98anZ6o",
        "collapsed": true
      },
      "outputs": [],
      "source": [
        "f, ax = plt.subplots(figsize=(10,5))\n",
        "sns.barplot(x='Sex', y=\"Survived\",  data=data)\n",
        "plt.ylabel(\"Survival percentage\")"
      ]
    },
    {
      "cell_type": "code",
      "execution_count": null,
      "metadata": {
        "id": "ENLO8hInnZ6s"
      },
      "outputs": [],
      "source": [
        "f, ax = plt.subplots(figsize=(11,5))\n",
        "sns.boxplot(x=\"Sex\", y=\"Age\", hue=\"Survived\", data=data);"
      ]
    },
    {
      "cell_type": "code",
      "execution_count": null,
      "metadata": {
        "id": "EcmKPzUQ-dtt"
      },
      "outputs": [],
      "source": []
    },
    {
      "cell_type": "code",
      "execution_count": null,
      "metadata": {
        "id": "fZBniDtVnZ6v"
      },
      "outputs": [],
      "source": [
        "sns.barplot(x=\"Pclass\", y=\"Survived\", data=data);"
      ]
    },
    {
      "cell_type": "code",
      "execution_count": null,
      "metadata": {
        "id": "Ha8S0yRmnZ6x"
      },
      "outputs": [],
      "source": [
        "sns.barplot(x=\"Pclass\", y=\"Survived\",hue=\"Sex\", data=data);"
      ]
    },
    {
      "cell_type": "code",
      "execution_count": null,
      "metadata": {
        "id": "1obKiMi1nZ60"
      },
      "outputs": [],
      "source": [
        "sns.barplot(x=\"SibSp\", y=\"Survived\",data=data,errorbar=None);"
      ]
    },
    {
      "cell_type": "code",
      "execution_count": null,
      "metadata": {
        "id": "uHDFzlftnZ64"
      },
      "outputs": [],
      "source": [
        "sns.barplot(x=\"Parch\", y=\"Survived\", data=data);"
      ]
    },
    {
      "cell_type": "code",
      "execution_count": null,
      "metadata": {
        "id": "prsJHDxsJiLM"
      },
      "outputs": [],
      "source": [
        "data.loc[data['Survived']==1]"
      ]
    },
    {
      "cell_type": "code",
      "execution_count": null,
      "metadata": {
        "id": "GoIhoTMRJZRF"
      },
      "outputs": [],
      "source": [
        "data.loc[data['Survived']==1,\"Age\"].dropna()\n"
      ]
    },
    {
      "cell_type": "code",
      "execution_count": null,
      "metadata": {
        "id": "t7uaLYVLnZ6-"
      },
      "outputs": [],
      "source": [
        "survived = data.loc[data['Survived']==1,\"Age\"].dropna()\n",
        "sns.distplot(survived)\n",
        "plt.title(\"Survived\");"
      ]
    },
    {
      "cell_type": "code",
      "source": [
        "survived.skew()"
      ],
      "metadata": {
        "id": "oIx2MkUqCY_g"
      },
      "execution_count": null,
      "outputs": []
    },
    {
      "cell_type": "code",
      "execution_count": null,
      "metadata": {
        "id": "iGuMwxQvnZ7A"
      },
      "outputs": [],
      "source": [
        "not_survived = data.loc[data['Survived']==0,\"Age\"].dropna()\n",
        "sns.distplot(not_survived)\n",
        "plt.title(\"Not Survived\");"
      ]
    },
    {
      "cell_type": "code",
      "source": [
        "sns.distplot(data[\"Age\"])"
      ],
      "metadata": {
        "id": "IDetRt10nUo5"
      },
      "execution_count": null,
      "outputs": []
    },
    {
      "cell_type": "code",
      "execution_count": null,
      "metadata": {
        "id": "4EI5WN0wnZ7D"
      },
      "outputs": [],
      "source": [
        "sns.pairplot(data.dropna());"
      ]
    },
    {
      "cell_type": "code",
      "execution_count": null,
      "metadata": {
        "id": "aDhXA4gsnZ7F"
      },
      "outputs": [],
      "source": [
        "# Pclass vs Survive\n",
        "grid = sns.FacetGrid(data, col='Survived', row='Pclass', aspect=1)\n",
        "grid.map(plt.hist, 'Age', alpha=.9, bins=20,edgecolor='red')\n",
        "grid.add_legend()"
      ]
    },
    {
      "cell_type": "code",
      "source": [
        "#data[data['Embarked']=='C']['Survived']\n",
        "data.loc[data['Embarked']=='C',\"Survived\"]"
      ],
      "metadata": {
        "id": "Ka8njbJrKhoW"
      },
      "execution_count": null,
      "outputs": []
    },
    {
      "cell_type": "code",
      "execution_count": null,
      "metadata": {
        "id": "gFT6dx2fnZ7O"
      },
      "outputs": [],
      "source": [
        "\n",
        "sns.distplot(a=data[data['Embarked']=='C']['Survived'],bins=3,kde=False)\n",
        "plt.title(\"Cherbourg\")\n",
        "plt.xticks([0,0.37,0.7,1])\n",
        "plt.show()\n",
        "\n",
        "plt.title(\"QueensTown\")\n",
        "sns.distplot(a=data[data['Embarked']=='Q']['Survived'],bins=3,kde=False)\n",
        "plt.xticks([0,1])\n",
        "plt.show()\n",
        "\n",
        "plt.title(\"Southampton\")\n",
        "sns.distplot(a=data[data['Embarked']=='S']['Survived'],bins=3,kde=False)\n",
        "plt.xticks([0,1])\n",
        "\n",
        "plt.show()\n",
        "#Most of the Passengers embarked from Southampton"
      ]
    },
    {
      "cell_type": "code",
      "execution_count": null,
      "metadata": {
        "id": "mzPbOcW7nZ7T",
        "scrolled": true
      },
      "outputs": [],
      "source": [
        "figbi, axesbi = plt.subplots(2, 4, figsize=(16, 10))\n",
        "data.groupby('Pclass')['Survived'].mean().plot(kind='barh',ax=axesbi[0,0],xlim=[0,1])\n",
        "data.groupby('SibSp')['Survived'].mean().plot(kind='barh',ax=axesbi[0,1],xlim=[0,1])\n",
        "data.groupby('Parch')['Survived'].mean().plot(kind='barh',ax=axesbi[0,2],xlim=[0,1])\n",
        "data.groupby('Sex')['Survived'].mean().plot(kind='barh',ax=axesbi[0,3],xlim=[0,1])\n",
        "data.groupby('Embarked')['Survived'].mean().plot(kind='barh',ax=axesbi[1,0],xlim=[0,1])\n",
        "sns.boxplot(x=\"Survived\", y=\"Age\", data=data,ax=axesbi[1,1])\n",
        "sns.boxplot(x=\"Survived\", y=\"Fare\", data=data,ax=axesbi[1,2])\n",
        "sns.distplot(not_survived,ax=axesbi[1,3])"
      ]
    },
    {
      "cell_type": "code",
      "source": [
        "figbi, axesbi = plt.subplots(2, 2, figsize=(8, 6))\n",
        "plt.suptitle(\"TItanic Data\")\n",
        "sns.boxplot(x=\"Survived\",y=\"Age\",data=data,ax=axesbi[0,0])\n",
        "sns.barplot(x=\"Pclass\",y=\"Survived\",data=data,ax=axesbi[0,1])\n",
        "sns.barplot(y=\"Survived\",hue=\"Sex\",data=data,ax=axesbi[1,0])\n",
        "sns.distplot(data['Fare'],ax=axesbi[1,1])\n",
        "plt.show()"
      ],
      "metadata": {
        "id": "sVkX1wnoQTNd"
      },
      "execution_count": null,
      "outputs": []
    },
    {
      "cell_type": "code",
      "source": [
        "figbi, axesbi = plt.subplots(2, 2, figsize=(8, 6))\n",
        "plt.suptitle(\"TItanic Data\")\n",
        "\n",
        "grid = sns.FacetGrid(data, col='Survived', row='Pclass', aspect=1)\n",
        "grid.map(plt.hist, 'Age', alpha=.9, bins=20,edgecolor='red')\n",
        "grid.add_legend()\n"
      ],
      "metadata": {
        "id": "8zkJpxXp8YBG"
      },
      "execution_count": null,
      "outputs": []
    },
    {
      "cell_type": "code",
      "source": [
        "figbi, axesbi = plt.subplots(2, 2, figsize=(8, 6))\n",
        "plt.suptitle(\"TItanic Data\")\n",
        "sns.distplot(a=data[data['Embarked']=='C']['Survived'],bins=3,kde=False,ax=axesbi[0,1])\n",
        "plt.title(\"Cherbourg\")\n",
        "plt.xticks([0,0.37,0.7,1])\n",
        "sns.barplot(x=\"Parch\", y=\"Survived\", data=data,ax=axesbi[1,0])\n",
        "sns.boxplot(x=\"Sex\", y=\"Age\", hue=\"Survived\", data=data,ax=axesbi[1,1])\n",
        "not_survived = data.loc[data['Survived']==0,\"Age\"].dropna()\n",
        "sns.distplot(not_survived,ax=axesbi[0,0])\n",
        "plt.title(\"Not Survived\")\n"
      ],
      "metadata": {
        "id": "C-SvMZESQJZU"
      },
      "execution_count": null,
      "outputs": []
    },
    {
      "cell_type": "code",
      "source": [],
      "metadata": {
        "id": "8XC9QXQ_P7ps"
      },
      "execution_count": null,
      "outputs": []
    }
  ],
  "metadata": {
    "colab": {
      "provenance": []
    },
    "kernelspec": {
      "display_name": "Python 3",
      "language": "python",
      "name": "python3"
    },
    "language_info": {
      "codemirror_mode": {
        "name": "ipython",
        "version": 3
      },
      "file_extension": ".py",
      "mimetype": "text/x-python",
      "name": "python",
      "nbconvert_exporter": "python",
      "pygments_lexer": "ipython3",
      "version": "3.7.4"
    }
  },
  "nbformat": 4,
  "nbformat_minor": 0
}