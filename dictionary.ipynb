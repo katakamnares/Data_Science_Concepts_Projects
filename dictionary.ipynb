{
  "cells": [
    {
      "cell_type": "code",
      "execution_count": null,
      "id": "f32e95a4-5e22-4dc8-8b90-586da40b9fbb",
      "metadata": {
        "id": "f32e95a4-5e22-4dc8-8b90-586da40b9fbb",
        "outputId": "009869b6-92fd-492c-81ff-d4331a9d4f01"
      },
      "outputs": [
        {
          "data": {
            "text/plain": [
              "['__class__',\n",
              " '__class_getitem__',\n",
              " '__contains__',\n",
              " '__delattr__',\n",
              " '__delitem__',\n",
              " '__dir__',\n",
              " '__doc__',\n",
              " '__eq__',\n",
              " '__format__',\n",
              " '__ge__',\n",
              " '__getattribute__',\n",
              " '__getitem__',\n",
              " '__getstate__',\n",
              " '__gt__',\n",
              " '__hash__',\n",
              " '__init__',\n",
              " '__init_subclass__',\n",
              " '__ior__',\n",
              " '__iter__',\n",
              " '__le__',\n",
              " '__len__',\n",
              " '__lt__',\n",
              " '__ne__',\n",
              " '__new__',\n",
              " '__or__',\n",
              " '__reduce__',\n",
              " '__reduce_ex__',\n",
              " '__repr__',\n",
              " '__reversed__',\n",
              " '__ror__',\n",
              " '__setattr__',\n",
              " '__setitem__',\n",
              " '__sizeof__',\n",
              " '__str__',\n",
              " '__subclasshook__',\n",
              " 'clear',\n",
              " 'copy',\n",
              " 'fromkeys',\n",
              " 'get',\n",
              " 'items',\n",
              " 'keys',\n",
              " 'pop',\n",
              " 'popitem',\n",
              " 'setdefault',\n",
              " 'update',\n",
              " 'values']"
            ]
          },
          "execution_count": 27,
          "metadata": {},
          "output_type": "execute_result"
        }
      ],
      "source": [
        "dir(dict)"
      ]
    },
    {
      "cell_type": "markdown",
      "id": "6bff8b50-30af-4cbc-b09d-f3d3d29952d5",
      "metadata": {
        "id": "6bff8b50-30af-4cbc-b09d-f3d3d29952d5"
      },
      "source": [
        "#### Create a dictionary"
      ]
    },
    {
      "cell_type": "code",
      "execution_count": null,
      "id": "91253999-e1ba-4d89-bf58-11cdbb97d867",
      "metadata": {
        "id": "91253999-e1ba-4d89-bf58-11cdbb97d867"
      },
      "outputs": [],
      "source": [
        "s1 = {\n",
        "    'Name':'Thomas',\n",
        "    'Age':34,\n",
        "    'Course':'MySql',\n",
        "    'Marks':[77,88,99,100]\n",
        "}"
      ]
    },
    {
      "cell_type": "code",
      "execution_count": null,
      "id": "635867dc-2a03-4bff-be98-73afb98630ad",
      "metadata": {
        "id": "635867dc-2a03-4bff-be98-73afb98630ad",
        "outputId": "9987f9e6-7500-4037-b3a2-0a7240c6bd41"
      },
      "outputs": [
        {
          "data": {
            "text/plain": [
              "dict"
            ]
          },
          "execution_count": 4,
          "metadata": {},
          "output_type": "execute_result"
        }
      ],
      "source": [
        "type(s1)"
      ]
    },
    {
      "cell_type": "code",
      "execution_count": null,
      "id": "29b79022-ac3d-4fbb-bd32-8e36110f04fe",
      "metadata": {
        "id": "29b79022-ac3d-4fbb-bd32-8e36110f04fe"
      },
      "outputs": [],
      "source": [
        "d1 = {1:'One',\n",
        "      10.5:'Second',\n",
        "      'Name':'Tom',\n",
        "      (0,0):'Origin',\n",
        "      #[1,2]:'Not Allowed'\n",
        "     }"
      ]
    },
    {
      "cell_type": "code",
      "execution_count": null,
      "id": "4ef4124e-f30b-4bd7-8f36-bc277423dfff",
      "metadata": {
        "id": "4ef4124e-f30b-4bd7-8f36-bc277423dfff",
        "outputId": "a7e49ccc-0ce4-4a4c-d790-54468c797ff4"
      },
      "outputs": [
        {
          "data": {
            "text/plain": [
              "{1: 'One', 10.5: 'Second', 'Name': 'Tom', (0, 0): 'Origin'}"
            ]
          },
          "execution_count": 10,
          "metadata": {},
          "output_type": "execute_result"
        }
      ],
      "source": [
        "d1"
      ]
    },
    {
      "cell_type": "markdown",
      "id": "d8dd9543-8c5c-42d2-a0af-ddc8b29e1b6b",
      "metadata": {
        "id": "d8dd9543-8c5c-42d2-a0af-ddc8b29e1b6b"
      },
      "source": [
        "#### Using zip function"
      ]
    },
    {
      "cell_type": "code",
      "execution_count": null,
      "id": "b589efe0-b79c-49ff-bbac-323ed14ad669",
      "metadata": {
        "id": "b589efe0-b79c-49ff-bbac-323ed14ad669"
      },
      "outputs": [],
      "source": [
        "names = ['Tom','Tim','Jon','Jim']\n",
        "marks = [76,88,99,100]"
      ]
    },
    {
      "cell_type": "code",
      "execution_count": null,
      "id": "21a40886-0975-40b6-bc43-8bfb62bfc4fd",
      "metadata": {
        "id": "21a40886-0975-40b6-bc43-8bfb62bfc4fd",
        "outputId": "eb13d1c4-5dd4-40d8-ad39-bdcd055d86de"
      },
      "outputs": [
        {
          "data": {
            "text/plain": [
              "<zip at 0x16de4dcc0>"
            ]
          },
          "execution_count": 12,
          "metadata": {},
          "output_type": "execute_result"
        }
      ],
      "source": [
        "zip(names, marks)"
      ]
    },
    {
      "cell_type": "code",
      "execution_count": null,
      "id": "3d93632d-b1fb-4cdd-883c-d707dacf0523",
      "metadata": {
        "id": "3d93632d-b1fb-4cdd-883c-d707dacf0523",
        "outputId": "6e39c85e-f8e0-45ee-e665-8d006aa0840b"
      },
      "outputs": [
        {
          "data": {
            "text/plain": [
              "{'Tom': 76, 'Tim': 88, 'Jon': 99, 'Jim': 100}"
            ]
          },
          "execution_count": 13,
          "metadata": {},
          "output_type": "execute_result"
        }
      ],
      "source": [
        "dict(zip(names, marks))"
      ]
    },
    {
      "cell_type": "code",
      "execution_count": null,
      "id": "0f4c15e5-02dc-4cc5-9a72-44208b09899b",
      "metadata": {
        "id": "0f4c15e5-02dc-4cc5-9a72-44208b09899b"
      },
      "outputs": [],
      "source": [
        "states = ['TN','UP','MP','AP','Telangana']\n",
        "capitals = ['Chennai','Lucknow','Bhopal','Amaravathi','Hyderabad']"
      ]
    },
    {
      "cell_type": "code",
      "execution_count": null,
      "id": "a09e3bcf-760e-43ed-b7bd-478526f6694b",
      "metadata": {
        "id": "a09e3bcf-760e-43ed-b7bd-478526f6694b",
        "outputId": "550250b5-ce4d-468b-b961-788152b53834"
      },
      "outputs": [
        {
          "data": {
            "text/plain": [
              "{'TN': 'Chennai',\n",
              " 'UP': 'Lucknow',\n",
              " 'MP': 'Bhopal',\n",
              " 'AP': 'Amaravathi',\n",
              " 'Telangana': 'Hyderabad'}"
            ]
          },
          "execution_count": 41,
          "metadata": {},
          "output_type": "execute_result"
        }
      ],
      "source": [
        "dstates = dict(zip(states,capitals))\n",
        "dstates"
      ]
    },
    {
      "cell_type": "markdown",
      "id": "b3c16f25-8507-44ed-9966-9c75986c9749",
      "metadata": {
        "id": "b3c16f25-8507-44ed-9966-9c75986c9749"
      },
      "source": [
        "##### Access Values"
      ]
    },
    {
      "cell_type": "code",
      "execution_count": null,
      "id": "8ab64d63-946f-4eba-8640-ff6554db463a",
      "metadata": {
        "id": "8ab64d63-946f-4eba-8640-ff6554db463a",
        "outputId": "96a3eba6-88b7-4812-8d4e-e1e3237d87a1"
      },
      "outputs": [
        {
          "data": {
            "text/plain": [
              "'Chennai'"
            ]
          },
          "execution_count": 42,
          "metadata": {},
          "output_type": "execute_result"
        }
      ],
      "source": [
        "dstates['TN']"
      ]
    },
    {
      "cell_type": "code",
      "execution_count": null,
      "id": "7385bdee-29d8-4b7e-8eec-bd63bf3542ed",
      "metadata": {
        "id": "7385bdee-29d8-4b7e-8eec-bd63bf3542ed",
        "outputId": "ac944dad-6444-45e3-c4fb-76f20965ebd4"
      },
      "outputs": [
        {
          "ename": "KeyError",
          "evalue": "'Goa'",
          "output_type": "error",
          "traceback": [
            "\u001b[0;31m---------------------------------------------------------------------------\u001b[0m",
            "\u001b[0;31mKeyError\u001b[0m                                  Traceback (most recent call last)",
            "Cell \u001b[0;32mIn[43], line 1\u001b[0m\n\u001b[0;32m----> 1\u001b[0m dstates[\u001b[38;5;124m'\u001b[39m\u001b[38;5;124mGoa\u001b[39m\u001b[38;5;124m'\u001b[39m]\n",
            "\u001b[0;31mKeyError\u001b[0m: 'Goa'"
          ]
        }
      ],
      "source": [
        "dstates['Goa']"
      ]
    },
    {
      "cell_type": "code",
      "execution_count": null,
      "id": "60e6e942-8932-44cf-821e-452dc1292112",
      "metadata": {
        "id": "60e6e942-8932-44cf-821e-452dc1292112"
      },
      "outputs": [],
      "source": [
        "dstates.get('Goa')"
      ]
    },
    {
      "cell_type": "code",
      "execution_count": null,
      "id": "0ad78a54-6eeb-4ca2-b59b-e42365df40fd",
      "metadata": {
        "id": "0ad78a54-6eeb-4ca2-b59b-e42365df40fd",
        "outputId": "2e7a6f93-aa38-41df-8234-69b646d2dbe5"
      },
      "outputs": [
        {
          "data": {
            "text/plain": [
              "dict_values(['Chennai', 'Lucknow', 'Bhopal', 'Amaravathi', 'Hyderabad'])"
            ]
          },
          "execution_count": 45,
          "metadata": {},
          "output_type": "execute_result"
        }
      ],
      "source": [
        "dstates.values()"
      ]
    },
    {
      "cell_type": "code",
      "execution_count": null,
      "id": "1ac66a31-292f-4c4d-842a-0bf902272e61",
      "metadata": {
        "id": "1ac66a31-292f-4c4d-842a-0bf902272e61",
        "outputId": "54271bcc-bb4f-46e2-c09a-332c4fdad054"
      },
      "outputs": [
        {
          "data": {
            "text/plain": [
              "dict_keys(['TN', 'UP', 'MP', 'AP', 'Telangana'])"
            ]
          },
          "execution_count": 46,
          "metadata": {},
          "output_type": "execute_result"
        }
      ],
      "source": [
        "dstates.keys()"
      ]
    },
    {
      "cell_type": "code",
      "execution_count": null,
      "id": "56f7b38f-2d77-45c4-be45-e2740f54e8c3",
      "metadata": {
        "id": "56f7b38f-2d77-45c4-be45-e2740f54e8c3",
        "outputId": "fee8231d-e551-4ff3-a2d4-43c271ad5198"
      },
      "outputs": [
        {
          "data": {
            "text/plain": [
              "dict_items([('TN', 'Chennai'), ('UP', 'Lucknow'), ('MP', 'Bhopal'), ('AP', 'Amaravathi'), ('Telangana', 'Hyderabad')])"
            ]
          },
          "execution_count": 47,
          "metadata": {},
          "output_type": "execute_result"
        }
      ],
      "source": [
        "dstates.items()"
      ]
    },
    {
      "cell_type": "code",
      "execution_count": null,
      "id": "9a454cd9-e4cb-41f5-99dc-bdf0a994998f",
      "metadata": {
        "id": "9a454cd9-e4cb-41f5-99dc-bdf0a994998f",
        "outputId": "e6f3c418-55dc-4c8c-9ddd-3cef4257df80"
      },
      "outputs": [
        {
          "data": {
            "text/plain": [
              "{'TN': 'Chennai',\n",
              " 'UP': 'Lucknow',\n",
              " 'MP': 'Bhopal',\n",
              " 'AP': 'Amaravathi',\n",
              " 'Telangana': 'Hyderabad'}"
            ]
          },
          "execution_count": 48,
          "metadata": {},
          "output_type": "execute_result"
        }
      ],
      "source": [
        "dstates"
      ]
    },
    {
      "cell_type": "code",
      "execution_count": null,
      "id": "bd3f54b9-14a2-4a67-8f48-3f5bb6577e25",
      "metadata": {
        "id": "bd3f54b9-14a2-4a67-8f48-3f5bb6577e25"
      },
      "outputs": [],
      "source": [
        "dstates['Kerala'] = 'Trivandrum'"
      ]
    },
    {
      "cell_type": "code",
      "execution_count": null,
      "id": "cf524766-cb05-4600-9924-0b77398d9e28",
      "metadata": {
        "id": "cf524766-cb05-4600-9924-0b77398d9e28",
        "outputId": "0e167c4a-7930-4cb9-adbb-943229cafb0d"
      },
      "outputs": [
        {
          "data": {
            "text/plain": [
              "{'TN': 'Chennai',\n",
              " 'UP': 'Lucknow',\n",
              " 'MP': 'Bhopal',\n",
              " 'AP': 'Amaravathi',\n",
              " 'Telangana': 'Hyderabad',\n",
              " 'Kerala': 'Trivandrum'}"
            ]
          },
          "execution_count": 50,
          "metadata": {},
          "output_type": "execute_result"
        }
      ],
      "source": [
        "dstates"
      ]
    },
    {
      "cell_type": "code",
      "execution_count": null,
      "id": "7fefa5c1-9b05-4732-8f81-385c02a7822d",
      "metadata": {
        "id": "7fefa5c1-9b05-4732-8f81-385c02a7822d"
      },
      "outputs": [],
      "source": [
        "dstates['TN'] ='Madurai'"
      ]
    },
    {
      "cell_type": "code",
      "execution_count": null,
      "id": "8a92ca60-4827-4095-81fa-4cdccc83bb51",
      "metadata": {
        "id": "8a92ca60-4827-4095-81fa-4cdccc83bb51",
        "outputId": "81ef43c8-7d59-449f-f9d3-1422405a3397"
      },
      "outputs": [
        {
          "data": {
            "text/plain": [
              "{'TN': 'Madurai',\n",
              " 'UP': 'Lucknow',\n",
              " 'MP': 'Bhopal',\n",
              " 'AP': 'Amaravathi',\n",
              " 'Telangana': 'Hyderabad',\n",
              " 'Kerala': 'Trivandrum'}"
            ]
          },
          "execution_count": 52,
          "metadata": {},
          "output_type": "execute_result"
        }
      ],
      "source": [
        "dstates"
      ]
    },
    {
      "cell_type": "code",
      "execution_count": null,
      "id": "f07187f1-8fd3-4c26-90a9-f6775c53b75a",
      "metadata": {
        "id": "f07187f1-8fd3-4c26-90a9-f6775c53b75a",
        "outputId": "64dd44ee-c2eb-4baf-da86-6c9de6068ce1"
      },
      "outputs": [
        {
          "data": {
            "text/plain": [
              "'Hyderabad'"
            ]
          },
          "execution_count": 53,
          "metadata": {},
          "output_type": "execute_result"
        }
      ],
      "source": [
        "dstates.setdefault('Telangana','Vizag')"
      ]
    },
    {
      "cell_type": "code",
      "execution_count": null,
      "id": "cf5467aa-eb9a-44c6-888f-82e57e5c7ff4",
      "metadata": {
        "id": "cf5467aa-eb9a-44c6-888f-82e57e5c7ff4",
        "outputId": "3a4a4d98-011a-4d2b-80f3-e76667ae425f"
      },
      "outputs": [
        {
          "data": {
            "text/plain": [
              "{'TN': 'Madurai',\n",
              " 'UP': 'Lucknow',\n",
              " 'MP': 'Bhopal',\n",
              " 'AP': 'Amaravathi',\n",
              " 'Telangana': 'Hyderabad',\n",
              " 'Kerala': 'Trivandrum'}"
            ]
          },
          "execution_count": 54,
          "metadata": {},
          "output_type": "execute_result"
        }
      ],
      "source": [
        "dstates"
      ]
    },
    {
      "cell_type": "markdown",
      "id": "aa607c73-610a-412e-986d-b73db0ac899d",
      "metadata": {
        "id": "aa607c73-610a-412e-986d-b73db0ac899d"
      },
      "source": [
        "#### Remove element"
      ]
    },
    {
      "cell_type": "code",
      "execution_count": null,
      "id": "bf7de7b5-12ab-4af2-915a-def20e5d308d",
      "metadata": {
        "id": "bf7de7b5-12ab-4af2-915a-def20e5d308d",
        "outputId": "fb52cf10-2d9a-42d4-b944-acad2cf22f16"
      },
      "outputs": [
        {
          "data": {
            "text/plain": [
              "('Kerala', 'Trivandrum')"
            ]
          },
          "execution_count": 55,
          "metadata": {},
          "output_type": "execute_result"
        }
      ],
      "source": [
        "dstates.popitem()"
      ]
    },
    {
      "cell_type": "code",
      "execution_count": null,
      "id": "4e94db70-e6d4-4f5a-b303-32caec3531bb",
      "metadata": {
        "id": "4e94db70-e6d4-4f5a-b303-32caec3531bb",
        "outputId": "2f8926cb-4f7f-49d6-98f6-48f1a8b6a90e"
      },
      "outputs": [
        {
          "data": {
            "text/plain": [
              "{'TN': 'Madurai',\n",
              " 'UP': 'Lucknow',\n",
              " 'MP': 'Bhopal',\n",
              " 'AP': 'Amaravathi',\n",
              " 'Telangana': 'Hyderabad'}"
            ]
          },
          "execution_count": 56,
          "metadata": {},
          "output_type": "execute_result"
        }
      ],
      "source": [
        "dstates"
      ]
    },
    {
      "cell_type": "code",
      "execution_count": null,
      "id": "7eece5ca-4dac-482d-9db7-1ec2ca6f5fbc",
      "metadata": {
        "id": "7eece5ca-4dac-482d-9db7-1ec2ca6f5fbc",
        "outputId": "6fff2564-56d5-47e3-b46d-8cf0f2580dc7"
      },
      "outputs": [
        {
          "data": {
            "text/plain": [
              "'Bhopal'"
            ]
          },
          "execution_count": 57,
          "metadata": {},
          "output_type": "execute_result"
        }
      ],
      "source": [
        "dstates.pop('MP')"
      ]
    },
    {
      "cell_type": "code",
      "execution_count": null,
      "id": "a5d36b59-dc1e-4057-873c-5d571e0f160b",
      "metadata": {
        "id": "a5d36b59-dc1e-4057-873c-5d571e0f160b",
        "outputId": "a68fa187-b5bc-483f-f019-b9e92b5b5435"
      },
      "outputs": [
        {
          "data": {
            "text/plain": [
              "{'TN': 'Madurai',\n",
              " 'UP': 'Lucknow',\n",
              " 'AP': 'Hyderabad',\n",
              " 'Telangana': 'Amaravathy',\n",
              " 'Kerala': 'Trivandrum'}"
            ]
          },
          "execution_count": 35,
          "metadata": {},
          "output_type": "execute_result"
        }
      ],
      "source": [
        "dstates"
      ]
    },
    {
      "cell_type": "code",
      "execution_count": null,
      "id": "b2702bda-46f5-44e9-9f3f-27bd768b1507",
      "metadata": {
        "id": "b2702bda-46f5-44e9-9f3f-27bd768b1507"
      },
      "outputs": [],
      "source": [
        "dstates.clear()"
      ]
    },
    {
      "cell_type": "code",
      "execution_count": null,
      "id": "e0edab95-a4ef-480e-93f1-ec13ef5e67de",
      "metadata": {
        "id": "e0edab95-a4ef-480e-93f1-ec13ef5e67de",
        "outputId": "6e14ad5a-d69c-4f4a-d528-954ad948ac91"
      },
      "outputs": [
        {
          "data": {
            "text/plain": [
              "{}"
            ]
          },
          "execution_count": 37,
          "metadata": {},
          "output_type": "execute_result"
        }
      ],
      "source": [
        "dstates"
      ]
    },
    {
      "cell_type": "code",
      "execution_count": null,
      "id": "7ccad470-d9da-417f-a3ea-915f5e8df071",
      "metadata": {
        "id": "7ccad470-d9da-417f-a3ea-915f5e8df071",
        "outputId": "9a3271c7-0c1c-487a-b461-1c820cf2a636"
      },
      "outputs": [
        {
          "data": {
            "text/plain": [
              "{'TN': 'Chennai',\n",
              " 'UP': 'Lucknow',\n",
              " 'MP': 'Bhopal',\n",
              " 'AP': 'Amaravathi',\n",
              " 'Telangana': 'Hyderabad'}"
            ]
          },
          "execution_count": 58,
          "metadata": {},
          "output_type": "execute_result"
        }
      ],
      "source": [
        "dstates = dict(zip(states,capitals))\n",
        "dstates"
      ]
    },
    {
      "cell_type": "code",
      "execution_count": null,
      "id": "4c72682a-3260-41ad-bda0-f07c65ecb26a",
      "metadata": {
        "id": "4c72682a-3260-41ad-bda0-f07c65ecb26a"
      },
      "outputs": [],
      "source": [
        "dstates['AP'] = 'Vizag'"
      ]
    },
    {
      "cell_type": "code",
      "execution_count": null,
      "id": "7d43caa0-6282-4fa9-b16a-15580a413261",
      "metadata": {
        "id": "7d43caa0-6282-4fa9-b16a-15580a413261"
      },
      "outputs": [],
      "source": [
        "d1 = {1:'Mango',\n",
        "      2:'Strawberry',\n",
        "      3:'Papaya'\n",
        "     }"
      ]
    },
    {
      "cell_type": "code",
      "execution_count": null,
      "id": "584e9f81-3b71-488d-aa9b-9de00f67000a",
      "metadata": {
        "id": "584e9f81-3b71-488d-aa9b-9de00f67000a"
      },
      "outputs": [],
      "source": [
        "d2 = {2:'Kiwi',\n",
        "      3:'Grapes',\n",
        "      4:'Orange'\n",
        "     }"
      ]
    },
    {
      "cell_type": "code",
      "execution_count": null,
      "id": "570d1b85-0bbd-4e68-986b-122b3aa86472",
      "metadata": {
        "id": "570d1b85-0bbd-4e68-986b-122b3aa86472"
      },
      "outputs": [],
      "source": [
        "d1.update(d2)"
      ]
    },
    {
      "cell_type": "code",
      "execution_count": null,
      "id": "4682ba72-6208-4638-b258-b5195e91860a",
      "metadata": {
        "id": "4682ba72-6208-4638-b258-b5195e91860a",
        "outputId": "d06fe011-9419-42b6-bbf0-8c46651e99c8"
      },
      "outputs": [
        {
          "data": {
            "text/plain": [
              "{1: 'Mango', 2: 'Kiwi', 3: 'Grapes', 4: 'Orange'}"
            ]
          },
          "execution_count": 63,
          "metadata": {},
          "output_type": "execute_result"
        }
      ],
      "source": [
        "d1"
      ]
    },
    {
      "cell_type": "code",
      "execution_count": null,
      "id": "f6cbbfef-eb8f-49ec-b00f-dd3ac61a086e",
      "metadata": {
        "id": "f6cbbfef-eb8f-49ec-b00f-dd3ac61a086e",
        "outputId": "bf66ab6a-51d0-41e1-94e9-7fa79d30e5f9"
      },
      "outputs": [
        {
          "data": {
            "text/plain": [
              "{2: 'Kiwi', 3: 'Grapes', 4: 'Orange'}"
            ]
          },
          "execution_count": 64,
          "metadata": {},
          "output_type": "execute_result"
        }
      ],
      "source": [
        "d2"
      ]
    },
    {
      "cell_type": "code",
      "execution_count": null,
      "id": "8c3308be-4c81-4ee5-a900-8c7ac907f6c8",
      "metadata": {
        "id": "8c3308be-4c81-4ee5-a900-8c7ac907f6c8"
      },
      "outputs": [],
      "source": []
    }
  ],
  "metadata": {
    "kernelspec": {
      "display_name": "Python [conda env:base] *",
      "language": "python",
      "name": "conda-base-py"
    },
    "language_info": {
      "codemirror_mode": {
        "name": "ipython",
        "version": 3
      },
      "file_extension": ".py",
      "mimetype": "text/x-python",
      "name": "python",
      "nbconvert_exporter": "python",
      "pygments_lexer": "ipython3",
      "version": "3.12.7"
    },
    "colab": {
      "provenance": []
    }
  },
  "nbformat": 4,
  "nbformat_minor": 5
}