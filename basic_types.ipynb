{
  "cells": [
    {
      "cell_type": "markdown",
      "id": "771e3e36-721e-4359-b701-9ea7ef662aa6",
      "metadata": {
        "id": "771e3e36-721e-4359-b701-9ea7ef662aa6"
      },
      "source": [
        "## Jupyter Shortcuts\n",
        "\n",
        "+ esc + a  - Add a cell above the current Cell\n",
        "+ esc + b - Add a cell below the current cell\n",
        "+ esc + m - Convert current cell to markdown\n",
        "+ esc + y - Convert current cell to code cell\n",
        "+ esc + x  - Delete the current cell\n",
        "+ shift + enter - Execute a cell"
      ]
    },
    {
      "cell_type": "code",
      "execution_count": null,
      "id": "a5c68044-0978-4c85-b629-85110b96d949",
      "metadata": {
        "id": "a5c68044-0978-4c85-b629-85110b96d949",
        "outputId": "4bf3420d-482e-4f2d-dee1-fce929501127"
      },
      "outputs": [
        {
          "name": "stdout",
          "output_type": "stream",
          "text": [
            "Hello\n"
          ]
        }
      ],
      "source": [
        "# This is a comment\n",
        "print('Hello')"
      ]
    },
    {
      "cell_type": "markdown",
      "id": "356c2cfa-aecc-4403-8ac2-92cf8498a201",
      "metadata": {
        "id": "356c2cfa-aecc-4403-8ac2-92cf8498a201"
      },
      "source": [
        "print('Hello')"
      ]
    },
    {
      "cell_type": "markdown",
      "id": "1f9841e6-46b9-4b67-ac9d-50a0d510b0f7",
      "metadata": {
        "id": "1f9841e6-46b9-4b67-ac9d-50a0d510b0f7"
      },
      "source": [
        "<font color='blue' > This is blue text </font>"
      ]
    },
    {
      "cell_type": "markdown",
      "id": "1b8b27af-1d5d-4f84-b3c6-1e5db13414d3",
      "metadata": {
        "id": "1b8b27af-1d5d-4f84-b3c6-1e5db13414d3"
      },
      "source": [
        "### Datatypes"
      ]
    },
    {
      "cell_type": "code",
      "execution_count": null,
      "id": "6c7552b4-5f33-422c-b124-6ac2a38aba2f",
      "metadata": {
        "id": "6c7552b4-5f33-422c-b124-6ac2a38aba2f"
      },
      "outputs": [],
      "source": [
        "# Integer\n",
        "x = 12"
      ]
    },
    {
      "cell_type": "code",
      "execution_count": null,
      "id": "696896ad-647b-4722-8f34-e468e594a79b",
      "metadata": {
        "id": "696896ad-647b-4722-8f34-e468e594a79b",
        "outputId": "260825bb-4c02-4b0f-9088-a9b197877cf5"
      },
      "outputs": [
        {
          "name": "stdout",
          "output_type": "stream",
          "text": [
            "12\n"
          ]
        }
      ],
      "source": [
        "print(x)"
      ]
    },
    {
      "cell_type": "code",
      "execution_count": null,
      "id": "b859743a-c788-47ef-9665-5afb7a35e508",
      "metadata": {
        "id": "b859743a-c788-47ef-9665-5afb7a35e508",
        "outputId": "c3244718-1cfa-4bd1-cab3-dda248a96863"
      },
      "outputs": [
        {
          "data": {
            "text/plain": [
              "12"
            ]
          },
          "execution_count": 6,
          "metadata": {},
          "output_type": "execute_result"
        }
      ],
      "source": [
        "x"
      ]
    },
    {
      "cell_type": "code",
      "execution_count": null,
      "id": "8a10b918-acbb-4a92-9432-8e4f0e91bc7d",
      "metadata": {
        "id": "8a10b918-acbb-4a92-9432-8e4f0e91bc7d",
        "outputId": "bafa6d3c-d817-4bbd-ce4d-84142f6832d6"
      },
      "outputs": [
        {
          "data": {
            "text/plain": [
              "int"
            ]
          },
          "execution_count": 7,
          "metadata": {},
          "output_type": "execute_result"
        }
      ],
      "source": [
        "type(x)"
      ]
    },
    {
      "cell_type": "code",
      "execution_count": null,
      "id": "59ac6d2a-9d39-487c-a55d-1abe52065215",
      "metadata": {
        "id": "59ac6d2a-9d39-487c-a55d-1abe52065215",
        "outputId": "cff358e6-a97c-42f2-9d8f-95877ac36c70"
      },
      "outputs": [
        {
          "data": {
            "text/plain": [
              "15.78"
            ]
          },
          "execution_count": 8,
          "metadata": {},
          "output_type": "execute_result"
        }
      ],
      "source": [
        "# Float\n",
        "y = 15.78\n",
        "y"
      ]
    },
    {
      "cell_type": "code",
      "execution_count": null,
      "id": "60eb6975-b617-49bb-a7d9-b6164a6c2824",
      "metadata": {
        "id": "60eb6975-b617-49bb-a7d9-b6164a6c2824",
        "outputId": "9088babc-1430-4fd0-c341-b635f6aad458"
      },
      "outputs": [
        {
          "data": {
            "text/plain": [
              "float"
            ]
          },
          "execution_count": 9,
          "metadata": {},
          "output_type": "execute_result"
        }
      ],
      "source": [
        "type(y)"
      ]
    },
    {
      "cell_type": "code",
      "execution_count": null,
      "id": "ff48cb53-f66a-42f1-b9a4-6c798ea3dec1",
      "metadata": {
        "id": "ff48cb53-f66a-42f1-b9a4-6c798ea3dec1",
        "outputId": "431094c1-afd5-4936-e2ed-4c8e394650f5"
      },
      "outputs": [
        {
          "data": {
            "text/plain": [
              "True"
            ]
          },
          "execution_count": 10,
          "metadata": {},
          "output_type": "execute_result"
        }
      ],
      "source": [
        "# Boolean Type\n",
        "z = True\n",
        "z"
      ]
    },
    {
      "cell_type": "code",
      "execution_count": null,
      "id": "5e69e67e-c1d6-432c-ba6b-fad2ae1a1cc2",
      "metadata": {
        "id": "5e69e67e-c1d6-432c-ba6b-fad2ae1a1cc2",
        "outputId": "9dd06fe8-701e-4719-da00-e4276019d486"
      },
      "outputs": [
        {
          "data": {
            "text/plain": [
              "bool"
            ]
          },
          "execution_count": 11,
          "metadata": {},
          "output_type": "execute_result"
        }
      ],
      "source": [
        "type(z)"
      ]
    },
    {
      "cell_type": "markdown",
      "id": "8fb1d97f-678a-4288-863c-5a5a243f36f7",
      "metadata": {
        "id": "8fb1d97f-678a-4288-863c-5a5a243f36f7"
      },
      "source": [
        "#### Arithmetic Operation"
      ]
    },
    {
      "cell_type": "code",
      "execution_count": null,
      "id": "090788a3-75a4-4996-b237-ee3f8822861c",
      "metadata": {
        "id": "090788a3-75a4-4996-b237-ee3f8822861c"
      },
      "outputs": [],
      "source": [
        "x = 10\n",
        "y = 3"
      ]
    },
    {
      "cell_type": "code",
      "execution_count": null,
      "id": "f876a75e-bd84-445e-a8d5-8624aa203d82",
      "metadata": {
        "id": "f876a75e-bd84-445e-a8d5-8624aa203d82",
        "outputId": "9aa531dc-5120-4e6e-cf1a-bb215c25de5b"
      },
      "outputs": [
        {
          "data": {
            "text/plain": [
              "13"
            ]
          },
          "execution_count": 13,
          "metadata": {},
          "output_type": "execute_result"
        }
      ],
      "source": [
        "x + y"
      ]
    },
    {
      "cell_type": "code",
      "execution_count": null,
      "id": "9756d0ab-2f8b-4934-b4d8-e4019c03252f",
      "metadata": {
        "id": "9756d0ab-2f8b-4934-b4d8-e4019c03252f",
        "outputId": "75dfd60e-37bd-4812-8aaf-e340e6c36af4"
      },
      "outputs": [
        {
          "data": {
            "text/plain": [
              "7"
            ]
          },
          "execution_count": 14,
          "metadata": {},
          "output_type": "execute_result"
        }
      ],
      "source": [
        "x - y"
      ]
    },
    {
      "cell_type": "code",
      "execution_count": null,
      "id": "23c20d65-e188-4fbe-9e10-f78ba1223470",
      "metadata": {
        "id": "23c20d65-e188-4fbe-9e10-f78ba1223470",
        "outputId": "fef47110-9745-41a3-cc7a-68fb40c1281d"
      },
      "outputs": [
        {
          "data": {
            "text/plain": [
              "30"
            ]
          },
          "execution_count": 15,
          "metadata": {},
          "output_type": "execute_result"
        }
      ],
      "source": [
        "x * y"
      ]
    },
    {
      "cell_type": "code",
      "execution_count": null,
      "id": "73cf90c1-785c-4cd2-93ac-2b4bb44c1282",
      "metadata": {
        "id": "73cf90c1-785c-4cd2-93ac-2b4bb44c1282",
        "outputId": "0a6e4ce8-dd02-4ab1-8138-bd519912f654"
      },
      "outputs": [
        {
          "data": {
            "text/plain": [
              "3.3333333333333335"
            ]
          },
          "execution_count": 16,
          "metadata": {},
          "output_type": "execute_result"
        }
      ],
      "source": [
        "x / y"
      ]
    },
    {
      "cell_type": "code",
      "execution_count": null,
      "id": "dd3ce894-9906-4a27-a198-44f76e9206be",
      "metadata": {
        "id": "dd3ce894-9906-4a27-a198-44f76e9206be",
        "outputId": "5acd79b3-60b6-406d-f74b-2d8bbe1aee0f"
      },
      "outputs": [
        {
          "data": {
            "text/plain": [
              "1"
            ]
          },
          "execution_count": 17,
          "metadata": {},
          "output_type": "execute_result"
        }
      ],
      "source": [
        "x % y"
      ]
    },
    {
      "cell_type": "code",
      "execution_count": null,
      "id": "bd667954-0a66-4766-b124-2647d47dc6db",
      "metadata": {
        "id": "bd667954-0a66-4766-b124-2647d47dc6db",
        "outputId": "f3422a5e-3dd4-43dd-9e2c-1090672e539a"
      },
      "outputs": [
        {
          "data": {
            "text/plain": [
              "3"
            ]
          },
          "execution_count": 18,
          "metadata": {},
          "output_type": "execute_result"
        }
      ],
      "source": [
        "x // y"
      ]
    },
    {
      "cell_type": "code",
      "execution_count": null,
      "id": "8156d344-2772-4c0f-bbeb-5f0b4a1cf201",
      "metadata": {
        "id": "8156d344-2772-4c0f-bbeb-5f0b4a1cf201",
        "outputId": "8445b412-10ac-4cff-de2b-bb885367fcf1"
      },
      "outputs": [
        {
          "data": {
            "text/plain": [
              "-4"
            ]
          },
          "execution_count": 20,
          "metadata": {},
          "output_type": "execute_result"
        }
      ],
      "source": [
        "# Floor of -3.333\n",
        "-x // y"
      ]
    },
    {
      "cell_type": "code",
      "execution_count": null,
      "id": "6781ffcc-b7fc-44d6-8edd-57a66b0357f8",
      "metadata": {
        "id": "6781ffcc-b7fc-44d6-8edd-57a66b0357f8",
        "outputId": "30235a27-f684-4109-df9a-ea98bc32f39e"
      },
      "outputs": [
        {
          "data": {
            "text/plain": [
              "1000"
            ]
          },
          "execution_count": 21,
          "metadata": {},
          "output_type": "execute_result"
        }
      ],
      "source": [
        "# Power\n",
        "x ** y"
      ]
    },
    {
      "cell_type": "markdown",
      "id": "8a394821-7323-4ddb-a223-4fe97c06507f",
      "metadata": {
        "id": "8a394821-7323-4ddb-a223-4fe97c06507f"
      },
      "source": [
        "#### Boolean Operations"
      ]
    },
    {
      "cell_type": "code",
      "execution_count": null,
      "id": "8096161d-57eb-4be6-a6c8-64d185b52e76",
      "metadata": {
        "id": "8096161d-57eb-4be6-a6c8-64d185b52e76"
      },
      "outputs": [],
      "source": [
        "x = True\n",
        "y = False"
      ]
    },
    {
      "cell_type": "code",
      "execution_count": null,
      "id": "e2ee3515-0fb4-43e2-9539-f0b6d4f8e346",
      "metadata": {
        "id": "e2ee3515-0fb4-43e2-9539-f0b6d4f8e346",
        "outputId": "9a606766-c665-42fa-fb1d-3ec87cd8672c"
      },
      "outputs": [
        {
          "data": {
            "text/plain": [
              "True"
            ]
          },
          "execution_count": 23,
          "metadata": {},
          "output_type": "execute_result"
        }
      ],
      "source": [
        "x or y"
      ]
    },
    {
      "cell_type": "code",
      "execution_count": null,
      "id": "942a43e0-80d8-405d-9393-e606c0a782cb",
      "metadata": {
        "id": "942a43e0-80d8-405d-9393-e606c0a782cb",
        "outputId": "462da133-6478-4f52-eb08-3bebb4d0f2b2"
      },
      "outputs": [
        {
          "data": {
            "text/plain": [
              "False"
            ]
          },
          "execution_count": 24,
          "metadata": {},
          "output_type": "execute_result"
        }
      ],
      "source": [
        "x and y"
      ]
    },
    {
      "cell_type": "code",
      "execution_count": null,
      "id": "122ede14-34fd-48d6-9d43-591d5b99cfa3",
      "metadata": {
        "id": "122ede14-34fd-48d6-9d43-591d5b99cfa3",
        "outputId": "c98b0ae5-697e-4e9a-fbd5-91f6aaa66a2e"
      },
      "outputs": [
        {
          "data": {
            "text/plain": [
              "False"
            ]
          },
          "execution_count": 25,
          "metadata": {},
          "output_type": "execute_result"
        }
      ],
      "source": [
        "not x"
      ]
    },
    {
      "cell_type": "code",
      "execution_count": null,
      "id": "5f7f6816-08f2-444b-bece-4352cd03036b",
      "metadata": {
        "id": "5f7f6816-08f2-444b-bece-4352cd03036b",
        "outputId": "26c30f17-4d6a-42f8-f0ef-03ff30648a34"
      },
      "outputs": [
        {
          "data": {
            "text/plain": [
              "True"
            ]
          },
          "execution_count": 26,
          "metadata": {},
          "output_type": "execute_result"
        }
      ],
      "source": [
        "not y"
      ]
    },
    {
      "cell_type": "markdown",
      "id": "2a282dcf-b87f-48f9-9b4f-60d4695ab166",
      "metadata": {
        "id": "2a282dcf-b87f-48f9-9b4f-60d4695ab166"
      },
      "source": [
        "## Sequences"
      ]
    },
    {
      "cell_type": "markdown",
      "id": "f1340e51-d062-4270-998c-1447d214a15e",
      "metadata": {
        "id": "f1340e51-d062-4270-998c-1447d214a15e"
      },
      "source": [
        "##### List"
      ]
    },
    {
      "cell_type": "code",
      "execution_count": null,
      "id": "cc042c1e-3a2e-49d0-bc79-199931fc8ec9",
      "metadata": {
        "id": "cc042c1e-3a2e-49d0-bc79-199931fc8ec9",
        "outputId": "734ff38c-5004-4a88-eef7-7c284989f9c9"
      },
      "outputs": [
        {
          "data": {
            "text/plain": [
              "[45, 66, 32, 90, 77]"
            ]
          },
          "execution_count": 27,
          "metadata": {},
          "output_type": "execute_result"
        }
      ],
      "source": [
        "lst = [45,66,32,90,77]\n",
        "lst"
      ]
    },
    {
      "cell_type": "code",
      "execution_count": null,
      "id": "b8b559b8-104b-4eaf-b15c-4ad0b4b34d2d",
      "metadata": {
        "id": "b8b559b8-104b-4eaf-b15c-4ad0b4b34d2d",
        "outputId": "c3602325-d3e7-430c-ea8f-c5de68400a58"
      },
      "outputs": [
        {
          "data": {
            "text/plain": [
              "list"
            ]
          },
          "execution_count": 28,
          "metadata": {},
          "output_type": "execute_result"
        }
      ],
      "source": [
        "type(lst)"
      ]
    },
    {
      "cell_type": "code",
      "execution_count": null,
      "id": "81b8076e-ffe0-43a3-927a-26a136703727",
      "metadata": {
        "id": "81b8076e-ffe0-43a3-927a-26a136703727",
        "outputId": "38a773f9-71f7-4a43-ddf8-6ac1a66f9779"
      },
      "outputs": [
        {
          "data": {
            "text/plain": [
              "[10, 5.23, True, [28, 99, 70], (1, 2, 3), 'Apple']"
            ]
          },
          "execution_count": 1,
          "metadata": {},
          "output_type": "execute_result"
        }
      ],
      "source": [
        "mixed_lst = [10,5.23,True,[28,99,70], (1,2,3), 'Apple']\n",
        "mixed_lst"
      ]
    },
    {
      "cell_type": "code",
      "execution_count": null,
      "id": "483e2f2a-cfbd-4736-b39f-bc35502c1f11",
      "metadata": {
        "id": "483e2f2a-cfbd-4736-b39f-bc35502c1f11",
        "outputId": "4fa12689-d869-4536-9e3d-118c51d577e6"
      },
      "outputs": [
        {
          "data": {
            "text/plain": [
              "5.23"
            ]
          },
          "execution_count": 2,
          "metadata": {},
          "output_type": "execute_result"
        }
      ],
      "source": [
        "mixed_lst[1]"
      ]
    },
    {
      "cell_type": "code",
      "execution_count": null,
      "id": "3f4d5866-3f5d-4c3f-93e4-5a34998ae8b0",
      "metadata": {
        "id": "3f4d5866-3f5d-4c3f-93e4-5a34998ae8b0",
        "outputId": "65c4ef62-5e65-4b57-f4f4-dcbdf3804e1e"
      },
      "outputs": [
        {
          "data": {
            "text/plain": [
              "[28, 99, 70]"
            ]
          },
          "execution_count": 4,
          "metadata": {},
          "output_type": "execute_result"
        }
      ],
      "source": [
        "mixed_lst[3]"
      ]
    },
    {
      "cell_type": "code",
      "execution_count": null,
      "id": "871fb973-5f78-4ae0-b724-235b0b0993cc",
      "metadata": {
        "id": "871fb973-5f78-4ae0-b724-235b0b0993cc",
        "outputId": "f6304335-1a05-409f-c562-9a97ff1fea57"
      },
      "outputs": [
        {
          "data": {
            "text/plain": [
              "99"
            ]
          },
          "execution_count": 5,
          "metadata": {},
          "output_type": "execute_result"
        }
      ],
      "source": [
        "mixed_lst[3][1]"
      ]
    },
    {
      "cell_type": "code",
      "execution_count": null,
      "id": "a3eb10a7-7f49-426e-b8de-e7b0c98a1381",
      "metadata": {
        "id": "a3eb10a7-7f49-426e-b8de-e7b0c98a1381",
        "outputId": "f3475866-edfa-439d-caa4-5a717a43c74c"
      },
      "outputs": [
        {
          "data": {
            "text/plain": [
              "'Apple'"
            ]
          },
          "execution_count": 6,
          "metadata": {},
          "output_type": "execute_result"
        }
      ],
      "source": [
        "mixed_lst[5]"
      ]
    },
    {
      "cell_type": "code",
      "execution_count": null,
      "id": "9add2954-9ea5-48e8-b45f-88cb9c18d30b",
      "metadata": {
        "id": "9add2954-9ea5-48e8-b45f-88cb9c18d30b",
        "outputId": "88e19c54-779e-463a-cd72-63f6f7975730"
      },
      "outputs": [
        {
          "data": {
            "text/plain": [
              "'l'"
            ]
          },
          "execution_count": 7,
          "metadata": {},
          "output_type": "execute_result"
        }
      ],
      "source": [
        "mixed_lst[5][3]"
      ]
    },
    {
      "cell_type": "markdown",
      "id": "c335ff12-dee3-45ef-9f19-69980a649567",
      "metadata": {
        "id": "c335ff12-dee3-45ef-9f19-69980a649567"
      },
      "source": [
        "##### tuple"
      ]
    },
    {
      "cell_type": "code",
      "execution_count": null,
      "id": "bd4a94cd-112d-41a1-a189-f03a2d7f1a34",
      "metadata": {
        "id": "bd4a94cd-112d-41a1-a189-f03a2d7f1a34",
        "outputId": "d7e855bd-b719-4875-d441-b8dff14266d0"
      },
      "outputs": [
        {
          "data": {
            "text/plain": [
              "(11, 22, 33, 44, 55, 66)"
            ]
          },
          "execution_count": 29,
          "metadata": {},
          "output_type": "execute_result"
        }
      ],
      "source": [
        "t1 = (11,22,33,44,55,66)\n",
        "t1"
      ]
    },
    {
      "cell_type": "code",
      "execution_count": null,
      "id": "b3635b29-6111-42bb-9b8e-f48ae9780f4a",
      "metadata": {
        "id": "b3635b29-6111-42bb-9b8e-f48ae9780f4a",
        "outputId": "e062b41e-5ca7-40d7-c0c5-b0d51420722c"
      },
      "outputs": [
        {
          "data": {
            "text/plain": [
              "tuple"
            ]
          },
          "execution_count": 30,
          "metadata": {},
          "output_type": "execute_result"
        }
      ],
      "source": [
        "type(t1)"
      ]
    },
    {
      "cell_type": "markdown",
      "id": "701ce18d-2892-4601-bcf3-3b016bfd6ff5",
      "metadata": {
        "id": "701ce18d-2892-4601-bcf3-3b016bfd6ff5"
      },
      "source": [
        "##### String"
      ]
    },
    {
      "cell_type": "code",
      "execution_count": null,
      "id": "8d9d7c1d-4763-495e-b036-332cb1fba5f5",
      "metadata": {
        "id": "8d9d7c1d-4763-495e-b036-332cb1fba5f5",
        "outputId": "f2495a82-866f-4722-d070-28f30dbfb3a1"
      },
      "outputs": [
        {
          "name": "stdout",
          "output_type": "stream",
          "text": [
            "Hi\n",
            "Hello\n"
          ]
        }
      ],
      "source": [
        "s1 = 'Hello'\n",
        "s2 = \"Hi\"\n",
        "s3 = '''Python3.0'''\n",
        "print(s2)\n",
        "print(s1)"
      ]
    },
    {
      "cell_type": "code",
      "execution_count": null,
      "id": "2296f8ab-dd65-4ca3-8e2f-e9241f5acc84",
      "metadata": {
        "id": "2296f8ab-dd65-4ca3-8e2f-e9241f5acc84",
        "outputId": "9b53d635-e2dc-4d4a-e095-b1ac8a3238a3"
      },
      "outputs": [
        {
          "data": {
            "text/plain": [
              "'Python3.0'"
            ]
          },
          "execution_count": 32,
          "metadata": {},
          "output_type": "execute_result"
        }
      ],
      "source": [
        "s3"
      ]
    },
    {
      "cell_type": "code",
      "execution_count": null,
      "id": "d94a7e42-6f5a-424e-b4cd-16af4e2dfa1b",
      "metadata": {
        "id": "d94a7e42-6f5a-424e-b4cd-16af4e2dfa1b",
        "outputId": "e2c89c08-17ee-443d-b915-fd41bb36915c"
      },
      "outputs": [
        {
          "data": {
            "text/plain": [
              "str"
            ]
          },
          "execution_count": 33,
          "metadata": {},
          "output_type": "execute_result"
        }
      ],
      "source": [
        "type(s3)"
      ]
    },
    {
      "cell_type": "code",
      "execution_count": null,
      "id": "1d427138-c67a-4b23-a59a-09aacd3eec65",
      "metadata": {
        "id": "1d427138-c67a-4b23-a59a-09aacd3eec65"
      },
      "outputs": [],
      "source": [
        "s3 = '''Python3.0'''"
      ]
    },
    {
      "cell_type": "code",
      "execution_count": null,
      "id": "e00206e0-42be-4374-866b-39f7a38af4b9",
      "metadata": {
        "id": "e00206e0-42be-4374-866b-39f7a38af4b9",
        "outputId": "781f5744-4e15-4d13-ec80-fb093e57119f"
      },
      "outputs": [
        {
          "data": {
            "text/plain": [
              "'3'"
            ]
          },
          "execution_count": 9,
          "metadata": {},
          "output_type": "execute_result"
        }
      ],
      "source": [
        "s3[6]"
      ]
    },
    {
      "cell_type": "code",
      "execution_count": null,
      "id": "cae10faf-6794-42de-b6c3-e25e4ee53643",
      "metadata": {
        "id": "cae10faf-6794-42de-b6c3-e25e4ee53643",
        "outputId": "64a4a0bf-a28e-48e8-8e50-1f7db2eac079"
      },
      "outputs": [
        {
          "data": {
            "text/plain": [
              "str"
            ]
          },
          "execution_count": 11,
          "metadata": {},
          "output_type": "execute_result"
        }
      ],
      "source": [
        "# string is a sequence of characters only (Homogeneous)\n",
        "type(s3[6])"
      ]
    },
    {
      "cell_type": "markdown",
      "id": "0985b9ee-0cff-43d4-9b3c-9d77f4282b26",
      "metadata": {
        "id": "0985b9ee-0cff-43d4-9b3c-9d77f4282b26"
      },
      "source": [
        "#### Slicing a sequence"
      ]
    },
    {
      "cell_type": "code",
      "execution_count": null,
      "id": "3a750704-8f25-4948-8472-e71400ad7bad",
      "metadata": {
        "id": "3a750704-8f25-4948-8472-e71400ad7bad"
      },
      "outputs": [],
      "source": [
        "s4 = 'I love python'"
      ]
    },
    {
      "cell_type": "code",
      "execution_count": null,
      "id": "aaa46f56-b8fa-4b2b-9976-042e8511e7ea",
      "metadata": {
        "id": "aaa46f56-b8fa-4b2b-9976-042e8511e7ea",
        "outputId": "2d17affa-9c4a-4f6c-f521-c89fd345abfd"
      },
      "outputs": [
        {
          "data": {
            "text/plain": [
              "'love'"
            ]
          },
          "execution_count": 14,
          "metadata": {},
          "output_type": "execute_result"
        }
      ],
      "source": [
        "s4[2:6]"
      ]
    },
    {
      "cell_type": "code",
      "execution_count": null,
      "id": "8fbba790-ffea-4299-ba94-2a88c938a9b6",
      "metadata": {
        "id": "8fbba790-ffea-4299-ba94-2a88c938a9b6",
        "outputId": "50d79b6b-d3c7-4e36-8f28-d11220577c37"
      },
      "outputs": [
        {
          "data": {
            "text/plain": [
              "[34, 56, 77, 88, 95, 45, 33, 11, 90]"
            ]
          },
          "execution_count": 15,
          "metadata": {},
          "output_type": "execute_result"
        }
      ],
      "source": [
        "l1 = [34,56,77,88,95,45,33,11,90]\n",
        "l1"
      ]
    },
    {
      "cell_type": "code",
      "execution_count": null,
      "id": "2ecf26bd-5937-4366-9743-929956001f58",
      "metadata": {
        "id": "2ecf26bd-5937-4366-9743-929956001f58",
        "outputId": "1ad51cfa-28d2-4cee-f966-9b9d1d8b8c64"
      },
      "outputs": [
        {
          "data": {
            "text/plain": [
              "[77, 88, 95, 45, 33]"
            ]
          },
          "execution_count": 16,
          "metadata": {},
          "output_type": "execute_result"
        }
      ],
      "source": [
        "l1[2:7]"
      ]
    },
    {
      "cell_type": "code",
      "execution_count": null,
      "id": "31080f6f-bb0f-472e-af37-9d49f24a0deb",
      "metadata": {
        "id": "31080f6f-bb0f-472e-af37-9d49f24a0deb",
        "outputId": "9696bb5c-019f-43c6-9b72-d796f0f44df3"
      },
      "outputs": [
        {
          "data": {
            "text/plain": [
              "[34, 56, 77, 88, 95, 45, 33]"
            ]
          },
          "execution_count": 17,
          "metadata": {},
          "output_type": "execute_result"
        }
      ],
      "source": [
        "l1[:7]"
      ]
    },
    {
      "cell_type": "code",
      "execution_count": null,
      "id": "9739c0b0-049d-4e1d-81e8-f4028117b6f2",
      "metadata": {
        "id": "9739c0b0-049d-4e1d-81e8-f4028117b6f2",
        "outputId": "937c8688-d2bd-4fcb-e1b5-fcc5b9713aad"
      },
      "outputs": [
        {
          "data": {
            "text/plain": [
              "[11, 90]"
            ]
          },
          "execution_count": 18,
          "metadata": {},
          "output_type": "execute_result"
        }
      ],
      "source": [
        "l1[7:]"
      ]
    },
    {
      "cell_type": "code",
      "execution_count": null,
      "id": "1d75d269-a810-457d-aa1f-225e272c8250",
      "metadata": {
        "id": "1d75d269-a810-457d-aa1f-225e272c8250",
        "outputId": "76b3a882-699c-45f6-ea72-d9b48d14d136"
      },
      "outputs": [
        {
          "data": {
            "text/plain": [
              "[45, 33, 11, 90]"
            ]
          },
          "execution_count": 19,
          "metadata": {},
          "output_type": "execute_result"
        }
      ],
      "source": [
        "l1[-4:]"
      ]
    },
    {
      "cell_type": "code",
      "execution_count": null,
      "id": "eeb151b8-3d8a-4f26-8f24-b9edfcf57bbd",
      "metadata": {
        "id": "eeb151b8-3d8a-4f26-8f24-b9edfcf57bbd",
        "outputId": "0882f663-f629-45e9-84f9-f72c8dec74e1"
      },
      "outputs": [
        {
          "data": {
            "text/plain": [
              "'I love python'"
            ]
          },
          "execution_count": 20,
          "metadata": {},
          "output_type": "execute_result"
        }
      ],
      "source": [
        "s4"
      ]
    },
    {
      "cell_type": "code",
      "execution_count": null,
      "id": "4c16e498-a8da-445f-97d5-e7d48123b30f",
      "metadata": {
        "id": "4c16e498-a8da-445f-97d5-e7d48123b30f",
        "outputId": "3d725c88-c32d-4893-b065-2d146287dcfe"
      },
      "outputs": [
        {
          "data": {
            "text/plain": [
              "'python'"
            ]
          },
          "execution_count": 21,
          "metadata": {},
          "output_type": "execute_result"
        }
      ],
      "source": [
        "s4[-6:]"
      ]
    },
    {
      "cell_type": "markdown",
      "id": "12fcbf61-3259-4dea-a6b7-454d9f25bb4c",
      "metadata": {
        "id": "12fcbf61-3259-4dea-a6b7-454d9f25bb4c"
      },
      "source": [
        "### Iteration"
      ]
    },
    {
      "cell_type": "code",
      "execution_count": null,
      "id": "b4914889-af7f-4df0-9d20-7245ff2b98f1",
      "metadata": {
        "id": "b4914889-af7f-4df0-9d20-7245ff2b98f1",
        "outputId": "a7cc8443-a48a-4216-e2ce-22908a2ef668"
      },
      "outputs": [
        {
          "data": {
            "text/plain": [
              "['Apple', 'Rice', 'Coffee', 'Soap', 'Notebook']"
            ]
          },
          "execution_count": 22,
          "metadata": {},
          "output_type": "execute_result"
        }
      ],
      "source": [
        "shop_lst = ['Apple','Rice','Coffee','Soap','Notebook']\n",
        "shop_lst"
      ]
    },
    {
      "cell_type": "code",
      "execution_count": null,
      "id": "39a3e8cb-e06f-4045-965b-1a40b91e6291",
      "metadata": {
        "id": "39a3e8cb-e06f-4045-965b-1a40b91e6291",
        "outputId": "093d37c9-c66b-4269-d229-a25bbd0da7fe"
      },
      "outputs": [
        {
          "name": "stdout",
          "output_type": "stream",
          "text": [
            "Apple\n",
            "Hi\n",
            "_________\n",
            "Rice\n",
            "Hi\n",
            "_________\n",
            "Coffee\n",
            "Hi\n",
            "_________\n",
            "Soap\n",
            "Hi\n",
            "_________\n",
            "Notebook\n",
            "Hi\n",
            "_________\n"
          ]
        }
      ],
      "source": [
        "for x in shop_lst:\n",
        "    print(x)\n",
        "    print('Hi')\n",
        "    print('_________')"
      ]
    },
    {
      "cell_type": "code",
      "execution_count": null,
      "id": "007326e4-b239-4415-acee-bd45bfc09574",
      "metadata": {
        "id": "007326e4-b239-4415-acee-bd45bfc09574",
        "outputId": "cc9c61ce-2353-4a69-ce9c-9273237c8329"
      },
      "outputs": [
        {
          "name": "stdout",
          "output_type": "stream",
          "text": [
            "Apple\n",
            "Hi\n",
            "Rice\n",
            "Hi\n",
            "Coffee\n",
            "Hi\n",
            "Soap\n",
            "Hi\n",
            "Notebook\n",
            "Hi\n",
            "_________\n"
          ]
        }
      ],
      "source": [
        "for x in shop_lst:\n",
        "    print(x)\n",
        "    print('Hi')\n",
        "print('_________')"
      ]
    },
    {
      "cell_type": "markdown",
      "id": "5136e03d-4dff-4427-b119-eb23dc81fb11",
      "metadata": {
        "id": "5136e03d-4dff-4427-b119-eb23dc81fb11"
      },
      "source": [
        "#### Common Functions"
      ]
    },
    {
      "cell_type": "code",
      "execution_count": null,
      "id": "bbdd2f9e-7e51-440f-bd1d-39cd57956a39",
      "metadata": {
        "id": "bbdd2f9e-7e51-440f-bd1d-39cd57956a39",
        "outputId": "20fd80c8-9527-4fea-bba0-0faf6ce70e70"
      },
      "outputs": [
        {
          "data": {
            "text/plain": [
              "[34, 56, 77, 88, 95, 45, 33, 11, 90]"
            ]
          },
          "execution_count": 30,
          "metadata": {},
          "output_type": "execute_result"
        }
      ],
      "source": [
        "l1"
      ]
    },
    {
      "cell_type": "code",
      "execution_count": null,
      "id": "d514c148-705f-48e8-87de-ab492881b279",
      "metadata": {
        "id": "d514c148-705f-48e8-87de-ab492881b279",
        "outputId": "078b86b1-c7c6-4cfe-9c90-78b90821f69b"
      },
      "outputs": [
        {
          "data": {
            "text/plain": [
              "95"
            ]
          },
          "execution_count": 31,
          "metadata": {},
          "output_type": "execute_result"
        }
      ],
      "source": [
        "max(l1)"
      ]
    },
    {
      "cell_type": "code",
      "execution_count": null,
      "id": "906c9f3b-6a33-4535-a624-6fe85f120a4e",
      "metadata": {
        "id": "906c9f3b-6a33-4535-a624-6fe85f120a4e",
        "outputId": "da68b321-4277-4146-bf59-7cedf004bfd6"
      },
      "outputs": [
        {
          "data": {
            "text/plain": [
              "11"
            ]
          },
          "execution_count": 32,
          "metadata": {},
          "output_type": "execute_result"
        }
      ],
      "source": [
        "min(l1)"
      ]
    },
    {
      "cell_type": "code",
      "execution_count": null,
      "id": "749da06e-7567-4775-bd59-25532548313b",
      "metadata": {
        "id": "749da06e-7567-4775-bd59-25532548313b",
        "outputId": "511f1853-f270-4d58-d114-df2475475fab"
      },
      "outputs": [
        {
          "data": {
            "text/plain": [
              "529"
            ]
          },
          "execution_count": 33,
          "metadata": {},
          "output_type": "execute_result"
        }
      ],
      "source": [
        "sum(l1)"
      ]
    },
    {
      "cell_type": "code",
      "execution_count": null,
      "id": "1acc7eb7-80a2-4d13-b2ec-b82df16461ba",
      "metadata": {
        "id": "1acc7eb7-80a2-4d13-b2ec-b82df16461ba",
        "outputId": "0e47049e-702e-4c0a-d174-297cff049365"
      },
      "outputs": [
        {
          "data": {
            "text/plain": [
              "13"
            ]
          },
          "execution_count": 53,
          "metadata": {},
          "output_type": "execute_result"
        }
      ],
      "source": [
        "len(l1)"
      ]
    },
    {
      "cell_type": "markdown",
      "id": "f7ae9b5b-e4d2-499c-9d79-456f7a3a5386",
      "metadata": {
        "id": "f7ae9b5b-e4d2-499c-9d79-456f7a3a5386"
      },
      "source": [
        "##### Membership Operation"
      ]
    },
    {
      "cell_type": "code",
      "execution_count": null,
      "id": "e1f5819f-d9aa-4ffa-8499-d522dc0bc184",
      "metadata": {
        "id": "e1f5819f-d9aa-4ffa-8499-d522dc0bc184",
        "outputId": "1b35811d-25c7-4d82-e082-1b2e192cfb5b"
      },
      "outputs": [
        {
          "data": {
            "text/plain": [
              "['Apple', 'Rice', 'Coffee', 'Soap', 'Notebook']"
            ]
          },
          "execution_count": 2,
          "metadata": {},
          "output_type": "execute_result"
        }
      ],
      "source": [
        "shop_lst = ['Apple','Rice','Coffee','Soap','Notebook']\n",
        "shop_lst"
      ]
    },
    {
      "cell_type": "code",
      "execution_count": null,
      "id": "9f619a9e-6917-489e-add1-bc411b7abaf0",
      "metadata": {
        "id": "9f619a9e-6917-489e-add1-bc411b7abaf0",
        "outputId": "19d54ce8-3e23-40c3-95ca-5c4f32300000"
      },
      "outputs": [
        {
          "data": {
            "text/plain": [
              "False"
            ]
          },
          "execution_count": 3,
          "metadata": {},
          "output_type": "execute_result"
        }
      ],
      "source": [
        "'Shampoo' in shop_lst"
      ]
    },
    {
      "cell_type": "code",
      "execution_count": null,
      "id": "a48922cd-1a13-48f6-b61b-9afdd4e7f5a2",
      "metadata": {
        "id": "a48922cd-1a13-48f6-b61b-9afdd4e7f5a2",
        "outputId": "31ddca3b-16c3-4fa8-89e5-d385df969b1e"
      },
      "outputs": [
        {
          "data": {
            "text/plain": [
              "True"
            ]
          },
          "execution_count": 4,
          "metadata": {},
          "output_type": "execute_result"
        }
      ],
      "source": [
        "s1 = 'Hello'\n",
        "'e' in s1"
      ]
    },
    {
      "cell_type": "markdown",
      "id": "6375c229-5d5e-4166-8e41-30577489b797",
      "metadata": {
        "id": "6375c229-5d5e-4166-8e41-30577489b797"
      },
      "source": [
        "#### Arithmetic Operations"
      ]
    },
    {
      "cell_type": "code",
      "execution_count": null,
      "id": "fc55b7eb-02d8-463a-a000-870535587c1a",
      "metadata": {
        "id": "fc55b7eb-02d8-463a-a000-870535587c1a"
      },
      "outputs": [],
      "source": [
        "lst = [1,2,3]"
      ]
    },
    {
      "cell_type": "code",
      "execution_count": null,
      "id": "1c88fb7b-b690-4a83-97f2-7e7b358106cb",
      "metadata": {
        "id": "1c88fb7b-b690-4a83-97f2-7e7b358106cb",
        "outputId": "0ea9669d-a696-4198-eab9-bdc232e6a186"
      },
      "outputs": [
        {
          "data": {
            "text/plain": [
              "[1, 2, 3, 1, 2, 3, 1, 2, 3]"
            ]
          },
          "execution_count": 35,
          "metadata": {},
          "output_type": "execute_result"
        }
      ],
      "source": [
        "# Repetition\n",
        "lst * 3"
      ]
    },
    {
      "cell_type": "code",
      "execution_count": null,
      "id": "e32027d3-af64-4264-938d-8ab73660aec1",
      "metadata": {
        "id": "e32027d3-af64-4264-938d-8ab73660aec1",
        "outputId": "1bf42a30-d673-46b2-8703-c3abab80060d"
      },
      "outputs": [
        {
          "data": {
            "text/plain": [
              "'HelloHello'"
            ]
          },
          "execution_count": 36,
          "metadata": {},
          "output_type": "execute_result"
        }
      ],
      "source": [
        "str1 = 'Hello'\n",
        "str1 * 2"
      ]
    },
    {
      "cell_type": "code",
      "execution_count": null,
      "id": "f5a3a19d-d4c1-4b19-9c80-57ba0a93bfeb",
      "metadata": {
        "id": "f5a3a19d-d4c1-4b19-9c80-57ba0a93bfeb",
        "outputId": "f807d082-39c7-4d6e-a960-3d570a007071"
      },
      "outputs": [
        {
          "data": {
            "text/plain": [
              "'__________________________________________________'"
            ]
          },
          "execution_count": 38,
          "metadata": {},
          "output_type": "execute_result"
        }
      ],
      "source": [
        "'_'*50"
      ]
    },
    {
      "cell_type": "markdown",
      "id": "e839d6fb-7844-4daa-98e2-7295ce538a9a",
      "metadata": {
        "id": "e839d6fb-7844-4daa-98e2-7295ce538a9a"
      },
      "source": [
        "# Addition"
      ]
    },
    {
      "cell_type": "code",
      "execution_count": null,
      "id": "71d82c96-0b1a-4237-bccb-b3f3892b6b03",
      "metadata": {
        "id": "71d82c96-0b1a-4237-bccb-b3f3892b6b03",
        "outputId": "572ca12a-403f-46a2-b15a-d588b5507fd4"
      },
      "outputs": [
        {
          "data": {
            "text/plain": [
              "[1, 2, 3, 1, 2, 3]"
            ]
          },
          "execution_count": 42,
          "metadata": {},
          "output_type": "execute_result"
        }
      ],
      "source": [
        "### Concatenation\n",
        "lst + lst"
      ]
    },
    {
      "cell_type": "code",
      "execution_count": null,
      "id": "c5667f57-d44d-4cfe-8e66-b39f269a92b2",
      "metadata": {
        "id": "c5667f57-d44d-4cfe-8e66-b39f269a92b2"
      },
      "outputs": [],
      "source": [
        "s1 = 'Hello '\n",
        "s2 = 'World'"
      ]
    },
    {
      "cell_type": "code",
      "execution_count": null,
      "id": "87515109-d2d4-42f5-9a2b-fe6d9d8093b4",
      "metadata": {
        "id": "87515109-d2d4-42f5-9a2b-fe6d9d8093b4",
        "outputId": "49bcc292-3b05-4d84-f77a-b8eb58739e10"
      },
      "outputs": [
        {
          "data": {
            "text/plain": [
              "'Hello World'"
            ]
          },
          "execution_count": 44,
          "metadata": {},
          "output_type": "execute_result"
        }
      ],
      "source": [
        "s1 + s2"
      ]
    },
    {
      "cell_type": "markdown",
      "id": "b77df465-3744-4c97-b944-e6448a9cbf5b",
      "metadata": {
        "id": "b77df465-3744-4c97-b944-e6448a9cbf5b"
      },
      "source": [
        "### List Functions"
      ]
    },
    {
      "cell_type": "code",
      "execution_count": null,
      "id": "ee45af92-10e5-454c-b619-cecc51053b21",
      "metadata": {
        "id": "ee45af92-10e5-454c-b619-cecc51053b21",
        "outputId": "f5aaa5f9-8a0c-4c12-a15d-de340226e150"
      },
      "outputs": [
        {
          "data": {
            "text/plain": [
              "['__add__',\n",
              " '__class__',\n",
              " '__class_getitem__',\n",
              " '__contains__',\n",
              " '__delattr__',\n",
              " '__delitem__',\n",
              " '__dir__',\n",
              " '__doc__',\n",
              " '__eq__',\n",
              " '__format__',\n",
              " '__ge__',\n",
              " '__getattribute__',\n",
              " '__getitem__',\n",
              " '__gt__',\n",
              " '__hash__',\n",
              " '__iadd__',\n",
              " '__imul__',\n",
              " '__init__',\n",
              " '__init_subclass__',\n",
              " '__iter__',\n",
              " '__le__',\n",
              " '__len__',\n",
              " '__lt__',\n",
              " '__mul__',\n",
              " '__ne__',\n",
              " '__new__',\n",
              " '__reduce__',\n",
              " '__reduce_ex__',\n",
              " '__repr__',\n",
              " '__reversed__',\n",
              " '__rmul__',\n",
              " '__setattr__',\n",
              " '__setitem__',\n",
              " '__sizeof__',\n",
              " '__str__',\n",
              " '__subclasshook__',\n",
              " 'append',\n",
              " 'clear',\n",
              " 'copy',\n",
              " 'count',\n",
              " 'extend',\n",
              " 'index',\n",
              " 'insert',\n",
              " 'pop',\n",
              " 'remove',\n",
              " 'reverse',\n",
              " 'sort']"
            ]
          },
          "execution_count": 45,
          "metadata": {},
          "output_type": "execute_result"
        }
      ],
      "source": [
        "dir(list)"
      ]
    },
    {
      "cell_type": "markdown",
      "id": "b887032c-c61d-43b0-a922-6bceee2b6c4d",
      "metadata": {
        "id": "b887032c-c61d-43b0-a922-6bceee2b6c4d"
      },
      "source": [
        "#### Add elements to a list"
      ]
    },
    {
      "cell_type": "code",
      "execution_count": null,
      "id": "a08ca00d-f698-46a6-8bfc-4e166c858693",
      "metadata": {
        "id": "a08ca00d-f698-46a6-8bfc-4e166c858693"
      },
      "outputs": [],
      "source": [
        "l1 = [34,56,77,88,95,45,33,11,90]"
      ]
    },
    {
      "cell_type": "code",
      "execution_count": null,
      "id": "8525e4b1-9cc3-48bd-870e-59bf007dee0d",
      "metadata": {
        "id": "8525e4b1-9cc3-48bd-870e-59bf007dee0d"
      },
      "outputs": [],
      "source": [
        "l1.append(100)"
      ]
    },
    {
      "cell_type": "code",
      "execution_count": null,
      "id": "308f53f5-756a-4cab-9cf9-812c8aa03e9a",
      "metadata": {
        "id": "308f53f5-756a-4cab-9cf9-812c8aa03e9a",
        "outputId": "56d10392-4326-4027-c012-5f513fcf0fa0"
      },
      "outputs": [
        {
          "data": {
            "text/plain": [
              "[34, 56, 77, 88, 95, 45, 33, 11, 90, 100]"
            ]
          },
          "execution_count": 49,
          "metadata": {},
          "output_type": "execute_result"
        }
      ],
      "source": [
        "l1"
      ]
    },
    {
      "cell_type": "code",
      "execution_count": null,
      "id": "6789ca1f-9eb2-462c-9b06-f2c65380cee6",
      "metadata": {
        "id": "6789ca1f-9eb2-462c-9b06-f2c65380cee6",
        "outputId": "69ea5e60-a155-4000-d472-3b96820bc41e"
      },
      "outputs": [
        {
          "data": {
            "text/plain": [
              "['Apple', 'Rice', 'Coffee', 'Soap', 'Notebook', 'Shampoo']"
            ]
          },
          "execution_count": 50,
          "metadata": {},
          "output_type": "execute_result"
        }
      ],
      "source": [
        "shop_lst.append('Shampoo')\n",
        "shop_lst"
      ]
    },
    {
      "cell_type": "code",
      "execution_count": null,
      "id": "01600a84-fe18-4ba4-aaeb-40484ab06dec",
      "metadata": {
        "id": "01600a84-fe18-4ba4-aaeb-40484ab06dec",
        "outputId": "ca88ea1d-04e8-4bfc-b17b-d721934db4b7"
      },
      "outputs": [
        {
          "data": {
            "text/plain": [
              "['Apple', 'Rice', 'Coffee', 'Tea', 'Soap', 'Notebook', 'Shampoo']"
            ]
          },
          "execution_count": 51,
          "metadata": {},
          "output_type": "execute_result"
        }
      ],
      "source": [
        "shop_lst.insert(3,'Tea')\n",
        "shop_lst"
      ]
    },
    {
      "cell_type": "code",
      "execution_count": null,
      "id": "adc40257-fe8e-4eec-b715-de4e63ff88fa",
      "metadata": {
        "id": "adc40257-fe8e-4eec-b715-de4e63ff88fa",
        "outputId": "ce91e273-1a5d-4c29-80fd-58c66203de09"
      },
      "outputs": [
        {
          "data": {
            "text/plain": [
              "[34, 56, 77, 88, 95, 45, 33, 11, 90, 100, 11, 22, 33]"
            ]
          },
          "execution_count": 52,
          "metadata": {},
          "output_type": "execute_result"
        }
      ],
      "source": [
        "l1.extend( [11,22,33] )\n",
        "l1"
      ]
    },
    {
      "cell_type": "markdown",
      "id": "a3f13689-e102-401e-b2b5-f430ff187e48",
      "metadata": {
        "id": "a3f13689-e102-401e-b2b5-f430ff187e48"
      },
      "source": [
        "#### Remove elements from a list"
      ]
    },
    {
      "cell_type": "code",
      "execution_count": null,
      "id": "a82b00fc-4957-4aae-b7f0-f86fed9050d8",
      "metadata": {
        "id": "a82b00fc-4957-4aae-b7f0-f86fed9050d8",
        "outputId": "209a94ab-dd2d-45bc-bf10-42b8fc27c009"
      },
      "outputs": [
        {
          "data": {
            "text/plain": [
              "[34, 56, 77, 88, 95, 45, 33, 11, 90, 100, 11, 22, 33]"
            ]
          },
          "execution_count": 54,
          "metadata": {},
          "output_type": "execute_result"
        }
      ],
      "source": [
        "l1"
      ]
    },
    {
      "cell_type": "code",
      "execution_count": null,
      "id": "f15c2e3b-448f-4a7f-b447-7bfae204a9c7",
      "metadata": {
        "id": "f15c2e3b-448f-4a7f-b447-7bfae204a9c7",
        "outputId": "896eb2a8-587f-4fd8-e487-cc40b827ffa3"
      },
      "outputs": [
        {
          "data": {
            "text/plain": [
              "33"
            ]
          },
          "execution_count": 55,
          "metadata": {},
          "output_type": "execute_result"
        }
      ],
      "source": [
        "l1.pop()"
      ]
    },
    {
      "cell_type": "code",
      "execution_count": null,
      "id": "398726fe-5c5e-45bf-b7ab-dff620042e1a",
      "metadata": {
        "id": "398726fe-5c5e-45bf-b7ab-dff620042e1a",
        "outputId": "73fec88b-f145-4af3-fd18-63da5f50c81f"
      },
      "outputs": [
        {
          "data": {
            "text/plain": [
              "[34, 56, 77, 88, 95, 45, 33, 11, 90, 100, 11, 22]"
            ]
          },
          "execution_count": 56,
          "metadata": {},
          "output_type": "execute_result"
        }
      ],
      "source": [
        "l1"
      ]
    },
    {
      "cell_type": "code",
      "execution_count": null,
      "id": "3c455bf4-3ab7-48de-b3c9-348569ab7dd7",
      "metadata": {
        "id": "3c455bf4-3ab7-48de-b3c9-348569ab7dd7",
        "outputId": "18fc0fe5-d503-4429-f7f4-a6a9d466fa30"
      },
      "outputs": [
        {
          "data": {
            "text/plain": [
              "22"
            ]
          },
          "execution_count": 57,
          "metadata": {},
          "output_type": "execute_result"
        }
      ],
      "source": [
        "l1.pop()"
      ]
    },
    {
      "cell_type": "code",
      "execution_count": null,
      "id": "09ef306b-ba75-443f-9d4a-fea16b45113e",
      "metadata": {
        "id": "09ef306b-ba75-443f-9d4a-fea16b45113e",
        "outputId": "81285ec8-85d9-431c-e447-f0bb213b63d0"
      },
      "outputs": [
        {
          "data": {
            "text/plain": [
              "[34, 56, 77, 88, 95, 45, 33, 11, 90, 100, 11]"
            ]
          },
          "execution_count": 58,
          "metadata": {},
          "output_type": "execute_result"
        }
      ],
      "source": [
        "l1"
      ]
    },
    {
      "cell_type": "code",
      "execution_count": null,
      "id": "c56e096b-9870-47bd-86b8-8d0ef289ab35",
      "metadata": {
        "id": "c56e096b-9870-47bd-86b8-8d0ef289ab35",
        "outputId": "2eb3f445-32cf-486e-ab48-9f330a5147be"
      },
      "outputs": [
        {
          "data": {
            "text/plain": [
              "77"
            ]
          },
          "execution_count": 59,
          "metadata": {},
          "output_type": "execute_result"
        }
      ],
      "source": [
        "l1.pop(2)"
      ]
    },
    {
      "cell_type": "code",
      "execution_count": null,
      "id": "3239f458-91e3-4950-a103-696db60c802c",
      "metadata": {
        "id": "3239f458-91e3-4950-a103-696db60c802c",
        "outputId": "b47c154f-99f5-4f72-a2c3-609047c45b42"
      },
      "outputs": [
        {
          "data": {
            "text/plain": [
              "[34, 56, 88, 95, 45, 33, 11, 90, 100, 11]"
            ]
          },
          "execution_count": 60,
          "metadata": {},
          "output_type": "execute_result"
        }
      ],
      "source": [
        "l1"
      ]
    },
    {
      "cell_type": "code",
      "execution_count": null,
      "id": "87c1c6bf-5fd4-4ee3-a4c3-1866ebe34a2f",
      "metadata": {
        "id": "87c1c6bf-5fd4-4ee3-a4c3-1866ebe34a2f"
      },
      "outputs": [],
      "source": [
        "shop_lst.remove('Shampoo')"
      ]
    },
    {
      "cell_type": "code",
      "execution_count": null,
      "id": "20689c57-27d4-4b44-91c8-29ca2e180fc2",
      "metadata": {
        "id": "20689c57-27d4-4b44-91c8-29ca2e180fc2",
        "outputId": "5f7572d4-c1ac-4661-857c-7448c92297d9"
      },
      "outputs": [
        {
          "data": {
            "text/plain": [
              "['Apple', 'Rice', 'Coffee', 'Tea', 'Soap', 'Notebook']"
            ]
          },
          "execution_count": 62,
          "metadata": {},
          "output_type": "execute_result"
        }
      ],
      "source": [
        "shop_lst"
      ]
    },
    {
      "cell_type": "code",
      "execution_count": null,
      "id": "f8803020-44ba-4a59-b1ab-df1d59e5aee8",
      "metadata": {
        "id": "f8803020-44ba-4a59-b1ab-df1d59e5aee8",
        "outputId": "1fa9a39b-86ef-4152-99ea-45f4059a599c"
      },
      "outputs": [
        {
          "data": {
            "text/plain": [
              "[34, 56, 88, 95, 45, 33, 11, 90, 100, 11]"
            ]
          },
          "execution_count": 63,
          "metadata": {},
          "output_type": "execute_result"
        }
      ],
      "source": [
        "l1"
      ]
    },
    {
      "cell_type": "code",
      "execution_count": null,
      "id": "88b815dd-5c3e-4be9-a837-1cdf111a9362",
      "metadata": {
        "id": "88b815dd-5c3e-4be9-a837-1cdf111a9362"
      },
      "outputs": [],
      "source": [
        "l1.remove(33)"
      ]
    },
    {
      "cell_type": "code",
      "execution_count": null,
      "id": "f193445d-1c05-408e-bb93-1601cebd47aa",
      "metadata": {
        "id": "f193445d-1c05-408e-bb93-1601cebd47aa",
        "outputId": "f0aa14ff-d5a3-44ac-ec27-d7e8dd8737e8"
      },
      "outputs": [
        {
          "data": {
            "text/plain": [
              "[34, 56, 88, 95, 45, 11, 90, 100, 11]"
            ]
          },
          "execution_count": 65,
          "metadata": {},
          "output_type": "execute_result"
        }
      ],
      "source": [
        "l1"
      ]
    },
    {
      "cell_type": "code",
      "execution_count": null,
      "id": "8db70e19-ad40-4d6a-b8d1-2da60dc03150",
      "metadata": {
        "id": "8db70e19-ad40-4d6a-b8d1-2da60dc03150"
      },
      "outputs": [],
      "source": [
        "l1.clear()"
      ]
    },
    {
      "cell_type": "code",
      "execution_count": null,
      "id": "07eed64e-992d-4e10-97c2-51af73f513b3",
      "metadata": {
        "id": "07eed64e-992d-4e10-97c2-51af73f513b3",
        "outputId": "3dffe146-e044-4c80-ddd3-214a2d8ac49b"
      },
      "outputs": [
        {
          "data": {
            "text/plain": [
              "[]"
            ]
          },
          "execution_count": 67,
          "metadata": {},
          "output_type": "execute_result"
        }
      ],
      "source": [
        "l1"
      ]
    },
    {
      "cell_type": "markdown",
      "id": "005db685-dd66-426a-8685-e82551600a9e",
      "metadata": {
        "id": "005db685-dd66-426a-8685-e82551600a9e"
      },
      "source": [
        "##### arrange elements of a sequence"
      ]
    },
    {
      "cell_type": "code",
      "execution_count": null,
      "id": "041b77ac-72d3-4aa7-b323-a7cba345c404",
      "metadata": {
        "id": "041b77ac-72d3-4aa7-b323-a7cba345c404"
      },
      "outputs": [],
      "source": [
        "l1 = [34,56,77,88,95,45,33,11,90]"
      ]
    },
    {
      "cell_type": "code",
      "execution_count": null,
      "id": "5a331cf7-a1be-4e65-84e3-8056c7078c3c",
      "metadata": {
        "id": "5a331cf7-a1be-4e65-84e3-8056c7078c3c"
      },
      "outputs": [],
      "source": [
        "# Ascending Order\n",
        "l1.sort()"
      ]
    },
    {
      "cell_type": "code",
      "execution_count": null,
      "id": "55c14759-e532-4a26-a766-3b7e603f46c9",
      "metadata": {
        "id": "55c14759-e532-4a26-a766-3b7e603f46c9",
        "outputId": "8e543628-3f8c-487e-dc3f-3aafa920ce71"
      },
      "outputs": [
        {
          "data": {
            "text/plain": [
              "[11, 33, 34, 45, 56, 77, 88, 90, 95]"
            ]
          },
          "execution_count": 72,
          "metadata": {},
          "output_type": "execute_result"
        }
      ],
      "source": [
        "l1"
      ]
    },
    {
      "cell_type": "code",
      "execution_count": null,
      "id": "8963dfa2-0b10-4084-8db2-8ae45bb07050",
      "metadata": {
        "id": "8963dfa2-0b10-4084-8db2-8ae45bb07050"
      },
      "outputs": [],
      "source": [
        "# Ascending Order\n",
        "l1.sort(reverse=True)"
      ]
    },
    {
      "cell_type": "code",
      "execution_count": null,
      "id": "d3b10e77-130d-405f-8657-9f4ccf152625",
      "metadata": {
        "id": "d3b10e77-130d-405f-8657-9f4ccf152625",
        "outputId": "774769b5-f460-4d21-fc7e-2c3275d8b65e"
      },
      "outputs": [
        {
          "data": {
            "text/plain": [
              "[95, 90, 88, 77, 56, 45, 34, 33, 11]"
            ]
          },
          "execution_count": 74,
          "metadata": {},
          "output_type": "execute_result"
        }
      ],
      "source": [
        "l1"
      ]
    },
    {
      "cell_type": "code",
      "execution_count": null,
      "id": "d7469b38-7bb1-4cec-a79f-d85b148d1da6",
      "metadata": {
        "id": "d7469b38-7bb1-4cec-a79f-d85b148d1da6"
      },
      "outputs": [],
      "source": [
        "l2 = [35,64,23]"
      ]
    },
    {
      "cell_type": "code",
      "execution_count": null,
      "id": "3019fe52-a2c3-400e-a2d0-782af2e2d473",
      "metadata": {
        "id": "3019fe52-a2c3-400e-a2d0-782af2e2d473"
      },
      "outputs": [],
      "source": [
        "l2.reverse()"
      ]
    },
    {
      "cell_type": "code",
      "execution_count": null,
      "id": "ebc88e60-b6e9-4420-85b6-8d4730d4f1b5",
      "metadata": {
        "id": "ebc88e60-b6e9-4420-85b6-8d4730d4f1b5",
        "outputId": "c3114baa-f5f1-45c9-a435-47a71359851f"
      },
      "outputs": [
        {
          "data": {
            "text/plain": [
              "[23, 64, 35]"
            ]
          },
          "execution_count": 79,
          "metadata": {},
          "output_type": "execute_result"
        }
      ],
      "source": [
        "l2"
      ]
    },
    {
      "cell_type": "code",
      "execution_count": null,
      "id": "965e362e-fa0d-4244-8106-4f5ca3b0abd2",
      "metadata": {
        "id": "965e362e-fa0d-4244-8106-4f5ca3b0abd2"
      },
      "outputs": [],
      "source": [
        "l1 = [34,56,77,88,95,45,33,11,90]"
      ]
    },
    {
      "cell_type": "code",
      "execution_count": null,
      "id": "7d226538-858b-4a12-8010-08b3cf2105b3",
      "metadata": {
        "id": "7d226538-858b-4a12-8010-08b3cf2105b3",
        "outputId": "b0526d97-4ec8-4f47-dce8-8b23889ec78d"
      },
      "outputs": [
        {
          "data": {
            "text/plain": [
              "6"
            ]
          },
          "execution_count": 81,
          "metadata": {},
          "output_type": "execute_result"
        }
      ],
      "source": [
        "l1.index(33)"
      ]
    },
    {
      "cell_type": "code",
      "execution_count": null,
      "id": "ff8c1be5-1890-411d-a29f-c886108f973c",
      "metadata": {
        "id": "ff8c1be5-1890-411d-a29f-c886108f973c",
        "outputId": "b3f4b4f4-94c4-4266-e610-2d49e1c1f3b3"
      },
      "outputs": [
        {
          "data": {
            "text/plain": [
              "5"
            ]
          },
          "execution_count": 82,
          "metadata": {},
          "output_type": "execute_result"
        }
      ],
      "source": [
        "shop_lst.index('Notebook')"
      ]
    },
    {
      "cell_type": "code",
      "execution_count": null,
      "id": "9ecaf0b2-4b31-4996-a4a1-ba166555cc3e",
      "metadata": {
        "id": "9ecaf0b2-4b31-4996-a4a1-ba166555cc3e"
      },
      "outputs": [],
      "source": [
        "l1 = [1,2,3]\n",
        "l2 = l1"
      ]
    },
    {
      "cell_type": "code",
      "execution_count": null,
      "id": "2644170b-8a88-4431-b07a-92d4d953ea66",
      "metadata": {
        "id": "2644170b-8a88-4431-b07a-92d4d953ea66",
        "outputId": "c22cc5b9-b9f3-4f37-89a1-dec8131cb3c3"
      },
      "outputs": [
        {
          "data": {
            "text/plain": [
              "[1, 2, 3]"
            ]
          },
          "execution_count": 84,
          "metadata": {},
          "output_type": "execute_result"
        }
      ],
      "source": [
        "l1"
      ]
    },
    {
      "cell_type": "code",
      "execution_count": null,
      "id": "a9152cdf-9f3d-4650-a8ad-93cb33682c1b",
      "metadata": {
        "id": "a9152cdf-9f3d-4650-a8ad-93cb33682c1b",
        "outputId": "683e29a3-a4d2-4176-c19d-e190e47707ff"
      },
      "outputs": [
        {
          "data": {
            "text/plain": [
              "[1, 2, 3]"
            ]
          },
          "execution_count": 85,
          "metadata": {},
          "output_type": "execute_result"
        }
      ],
      "source": [
        "l2"
      ]
    },
    {
      "cell_type": "code",
      "execution_count": null,
      "id": "5e42f8fb-90a5-47ff-96f1-e56dd37c5f61",
      "metadata": {
        "id": "5e42f8fb-90a5-47ff-96f1-e56dd37c5f61"
      },
      "outputs": [],
      "source": [
        "l1.append(100)"
      ]
    },
    {
      "cell_type": "code",
      "execution_count": null,
      "id": "a7ca4eef-6b68-4358-b72f-8286354b0115",
      "metadata": {
        "id": "a7ca4eef-6b68-4358-b72f-8286354b0115",
        "outputId": "4be1391c-8ffa-4979-ade3-0e89a1e7fba5"
      },
      "outputs": [
        {
          "data": {
            "text/plain": [
              "[1, 2, 3, 100]"
            ]
          },
          "execution_count": 87,
          "metadata": {},
          "output_type": "execute_result"
        }
      ],
      "source": [
        "l1"
      ]
    },
    {
      "cell_type": "code",
      "execution_count": null,
      "id": "16a6dc81-1758-4fb1-920e-dfebe2d0d120",
      "metadata": {
        "id": "16a6dc81-1758-4fb1-920e-dfebe2d0d120",
        "outputId": "b223525a-8dbe-4363-ce74-8d5683887283"
      },
      "outputs": [
        {
          "data": {
            "text/plain": [
              "[1, 2, 3, 100]"
            ]
          },
          "execution_count": 88,
          "metadata": {},
          "output_type": "execute_result"
        }
      ],
      "source": [
        "l2"
      ]
    },
    {
      "cell_type": "code",
      "execution_count": null,
      "id": "8e9eaf86-0820-4b00-9f49-c2a84fca50eb",
      "metadata": {
        "id": "8e9eaf86-0820-4b00-9f49-c2a84fca50eb"
      },
      "outputs": [],
      "source": [
        "l1 = [1,2,3]\n",
        "l2= l1.copy()"
      ]
    },
    {
      "cell_type": "code",
      "execution_count": null,
      "id": "794380ee-5702-4292-9c93-59d228099c3a",
      "metadata": {
        "id": "794380ee-5702-4292-9c93-59d228099c3a",
        "outputId": "0e153831-0ba2-43ab-9b5f-2d67d16a96fd"
      },
      "outputs": [
        {
          "data": {
            "text/plain": [
              "[1, 2, 3]"
            ]
          },
          "execution_count": 90,
          "metadata": {},
          "output_type": "execute_result"
        }
      ],
      "source": [
        "l1"
      ]
    },
    {
      "cell_type": "code",
      "execution_count": null,
      "id": "1d8f7ae6-3063-47f3-8594-3bce24ab52ca",
      "metadata": {
        "id": "1d8f7ae6-3063-47f3-8594-3bce24ab52ca",
        "outputId": "dbaad981-5e9e-4cb4-bc8b-532cee1fca11"
      },
      "outputs": [
        {
          "data": {
            "text/plain": [
              "[1, 2, 3]"
            ]
          },
          "execution_count": 91,
          "metadata": {},
          "output_type": "execute_result"
        }
      ],
      "source": [
        "l2"
      ]
    },
    {
      "cell_type": "code",
      "execution_count": null,
      "id": "36c7122c-1641-4725-b5a3-dd0fbbbbb2a6",
      "metadata": {
        "id": "36c7122c-1641-4725-b5a3-dd0fbbbbb2a6"
      },
      "outputs": [],
      "source": [
        "l1.append(100)"
      ]
    },
    {
      "cell_type": "code",
      "execution_count": null,
      "id": "b37e3eff-0cfd-497f-bbb6-0c83b86d1998",
      "metadata": {
        "id": "b37e3eff-0cfd-497f-bbb6-0c83b86d1998",
        "outputId": "da7bf8bd-ffba-4ab2-f4cc-2cc2e7d80cc5"
      },
      "outputs": [
        {
          "data": {
            "text/plain": [
              "[1, 2, 3, 100]"
            ]
          },
          "execution_count": 94,
          "metadata": {},
          "output_type": "execute_result"
        }
      ],
      "source": [
        "l1"
      ]
    },
    {
      "cell_type": "code",
      "execution_count": null,
      "id": "5309be87-7006-4bf9-ad32-1f3c3571dd35",
      "metadata": {
        "id": "5309be87-7006-4bf9-ad32-1f3c3571dd35",
        "outputId": "31541436-2d5e-4644-d042-bc89cebca440"
      },
      "outputs": [
        {
          "data": {
            "text/plain": [
              "[1, 2, 3]"
            ]
          },
          "execution_count": 95,
          "metadata": {},
          "output_type": "execute_result"
        }
      ],
      "source": [
        "l2"
      ]
    },
    {
      "cell_type": "code",
      "execution_count": null,
      "id": "b088c9f0-33da-4cb1-8f45-17d3a3a9c30a",
      "metadata": {
        "id": "b088c9f0-33da-4cb1-8f45-17d3a3a9c30a"
      },
      "outputs": [],
      "source": [
        "l1 = [7,6,9]"
      ]
    },
    {
      "cell_type": "code",
      "execution_count": null,
      "id": "f32e918b-609b-484d-8dcf-fbfa9dfc3fbe",
      "metadata": {
        "id": "f32e918b-609b-484d-8dcf-fbfa9dfc3fbe"
      },
      "outputs": [],
      "source": [
        "l1.sort()"
      ]
    },
    {
      "cell_type": "code",
      "execution_count": null,
      "id": "d01eddae-76a1-4742-8697-c75089020113",
      "metadata": {
        "id": "d01eddae-76a1-4742-8697-c75089020113",
        "outputId": "094d5fca-ccf4-43c1-a164-c6a0d7487e4e"
      },
      "outputs": [
        {
          "data": {
            "text/plain": [
              "[6, 7, 9]"
            ]
          },
          "execution_count": 98,
          "metadata": {},
          "output_type": "execute_result"
        }
      ],
      "source": [
        "l1"
      ]
    },
    {
      "cell_type": "markdown",
      "id": "b0390347-7da8-45ca-85ee-8e853d1eaacf",
      "metadata": {
        "id": "b0390347-7da8-45ca-85ee-8e853d1eaacf"
      },
      "source": [
        "#### Tuple Methods"
      ]
    },
    {
      "cell_type": "code",
      "execution_count": null,
      "id": "31ab1979-df8a-42cf-bd94-0f1e0d2e7bbf",
      "metadata": {
        "id": "31ab1979-df8a-42cf-bd94-0f1e0d2e7bbf",
        "outputId": "ccff3b38-4aeb-414f-d6f4-eec698d675f4"
      },
      "outputs": [
        {
          "data": {
            "text/plain": [
              "['__add__',\n",
              " '__class__',\n",
              " '__class_getitem__',\n",
              " '__contains__',\n",
              " '__delattr__',\n",
              " '__dir__',\n",
              " '__doc__',\n",
              " '__eq__',\n",
              " '__format__',\n",
              " '__ge__',\n",
              " '__getattribute__',\n",
              " '__getitem__',\n",
              " '__getnewargs__',\n",
              " '__gt__',\n",
              " '__hash__',\n",
              " '__init__',\n",
              " '__init_subclass__',\n",
              " '__iter__',\n",
              " '__le__',\n",
              " '__len__',\n",
              " '__lt__',\n",
              " '__mul__',\n",
              " '__ne__',\n",
              " '__new__',\n",
              " '__reduce__',\n",
              " '__reduce_ex__',\n",
              " '__repr__',\n",
              " '__rmul__',\n",
              " '__setattr__',\n",
              " '__sizeof__',\n",
              " '__str__',\n",
              " '__subclasshook__',\n",
              " 'count',\n",
              " 'index']"
            ]
          },
          "execution_count": 99,
          "metadata": {},
          "output_type": "execute_result"
        }
      ],
      "source": [
        "dir(tuple)"
      ]
    },
    {
      "cell_type": "code",
      "execution_count": null,
      "id": "35432fe0-3fcd-4fca-b206-fc8dc775ca1b",
      "metadata": {
        "id": "35432fe0-3fcd-4fca-b206-fc8dc775ca1b"
      },
      "outputs": [],
      "source": [
        "t1 = (1,2,3,3,5,7)"
      ]
    },
    {
      "cell_type": "code",
      "execution_count": null,
      "id": "10b7caed-c324-4e18-9a54-7ff9240600ac",
      "metadata": {
        "id": "10b7caed-c324-4e18-9a54-7ff9240600ac",
        "outputId": "1ec86c4c-8675-4283-b9a9-8a681c4a5e2b"
      },
      "outputs": [
        {
          "data": {
            "text/plain": [
              "2"
            ]
          },
          "execution_count": 101,
          "metadata": {},
          "output_type": "execute_result"
        }
      ],
      "source": [
        "t1.count(3)"
      ]
    },
    {
      "cell_type": "code",
      "execution_count": null,
      "id": "8a688143-d34a-4308-bae1-5b0dfd0f5995",
      "metadata": {
        "id": "8a688143-d34a-4308-bae1-5b0dfd0f5995",
        "outputId": "afee5945-bd3e-46fe-b668-9d964405535d"
      },
      "outputs": [
        {
          "data": {
            "text/plain": [
              "4"
            ]
          },
          "execution_count": 102,
          "metadata": {},
          "output_type": "execute_result"
        }
      ],
      "source": [
        "t1.index(5)"
      ]
    },
    {
      "cell_type": "markdown",
      "id": "f87e6043-7917-42f7-9365-bdf3635299f0",
      "metadata": {
        "id": "f87e6043-7917-42f7-9365-bdf3635299f0"
      },
      "source": [
        "#### String Methods"
      ]
    },
    {
      "cell_type": "code",
      "execution_count": null,
      "id": "c51e32ef-9c2f-4a80-a278-7f32ab26d26a",
      "metadata": {
        "id": "c51e32ef-9c2f-4a80-a278-7f32ab26d26a"
      },
      "outputs": [],
      "source": [
        "#dir(str)"
      ]
    },
    {
      "cell_type": "code",
      "execution_count": null,
      "id": "eddb32bf-7315-4c7d-b0f1-5f948d685c91",
      "metadata": {
        "id": "eddb32bf-7315-4c7d-b0f1-5f948d685c91"
      },
      "outputs": [],
      "source": [
        "s1 = 'i love python'"
      ]
    },
    {
      "cell_type": "code",
      "execution_count": null,
      "id": "825ed3d0-444f-4d9e-976e-f28fdfef7894",
      "metadata": {
        "id": "825ed3d0-444f-4d9e-976e-f28fdfef7894",
        "outputId": "0ae28350-8cfe-4482-84cb-4cf4cb802cc7"
      },
      "outputs": [
        {
          "data": {
            "text/plain": [
              "'I love python'"
            ]
          },
          "execution_count": 104,
          "metadata": {},
          "output_type": "execute_result"
        }
      ],
      "source": [
        "s1.capitalize()"
      ]
    },
    {
      "cell_type": "code",
      "execution_count": null,
      "id": "30db3b65-4169-4a58-bd74-8374e82e4da5",
      "metadata": {
        "id": "30db3b65-4169-4a58-bd74-8374e82e4da5",
        "outputId": "ced03ce9-5b25-4b23-82dd-8b283a691b08"
      },
      "outputs": [
        {
          "data": {
            "text/plain": [
              "'I Love Python'"
            ]
          },
          "execution_count": 105,
          "metadata": {},
          "output_type": "execute_result"
        }
      ],
      "source": [
        "s1.title()"
      ]
    },
    {
      "cell_type": "code",
      "execution_count": null,
      "id": "5adc8b7f-dda2-4315-b29a-199a5c0d8c72",
      "metadata": {
        "id": "5adc8b7f-dda2-4315-b29a-199a5c0d8c72"
      },
      "outputs": [],
      "source": [
        "s2 = s1.upper()"
      ]
    },
    {
      "cell_type": "code",
      "execution_count": null,
      "id": "73444e21-e977-4feb-a6a7-575a527ce7cd",
      "metadata": {
        "id": "73444e21-e977-4feb-a6a7-575a527ce7cd",
        "outputId": "8f6228f8-568b-49e4-dc97-1a0a97db3c63"
      },
      "outputs": [
        {
          "data": {
            "text/plain": [
              "'I LOVE PYTHON'"
            ]
          },
          "execution_count": 111,
          "metadata": {},
          "output_type": "execute_result"
        }
      ],
      "source": [
        "s2"
      ]
    },
    {
      "cell_type": "code",
      "execution_count": null,
      "id": "06c6bb21-022f-4c2d-bb37-c74ecb7a9cc2",
      "metadata": {
        "id": "06c6bb21-022f-4c2d-bb37-c74ecb7a9cc2"
      },
      "outputs": [],
      "source": [
        "s4 = 'I Love Python'"
      ]
    },
    {
      "cell_type": "code",
      "execution_count": null,
      "id": "00b0dae6-0b6e-45fd-a2bc-6125ea4a56b8",
      "metadata": {
        "id": "00b0dae6-0b6e-45fd-a2bc-6125ea4a56b8",
        "outputId": "a531532a-a4ae-4266-a022-a16a78a664f8"
      },
      "outputs": [
        {
          "data": {
            "text/plain": [
              "'i lOVE pYTHON'"
            ]
          },
          "execution_count": 132,
          "metadata": {},
          "output_type": "execute_result"
        }
      ],
      "source": [
        "s4.swapcase()"
      ]
    },
    {
      "cell_type": "code",
      "execution_count": null,
      "id": "849fa420-5f1f-4831-bff8-f09f2cd73de6",
      "metadata": {
        "id": "849fa420-5f1f-4831-bff8-f09f2cd73de6",
        "outputId": "c821692b-7df2-4c12-daa2-b4404aa54774"
      },
      "outputs": [
        {
          "data": {
            "text/plain": [
              "'i love python'"
            ]
          },
          "execution_count": 112,
          "metadata": {},
          "output_type": "execute_result"
        }
      ],
      "source": [
        "s1"
      ]
    },
    {
      "cell_type": "code",
      "execution_count": null,
      "id": "bf123a6e-8f03-44b8-8457-0414bfe14c7c",
      "metadata": {
        "id": "bf123a6e-8f03-44b8-8457-0414bfe14c7c"
      },
      "outputs": [],
      "source": [
        "l1 = [7,6,9]"
      ]
    },
    {
      "cell_type": "code",
      "execution_count": null,
      "id": "ffc9274d-85b5-4221-a96b-829872337f9c",
      "metadata": {
        "id": "ffc9274d-85b5-4221-a96b-829872337f9c"
      },
      "outputs": [],
      "source": [
        "l1.sort()"
      ]
    },
    {
      "cell_type": "code",
      "execution_count": null,
      "id": "a3b6a0d8-4993-4387-bebd-39bc1266257b",
      "metadata": {
        "id": "a3b6a0d8-4993-4387-bebd-39bc1266257b",
        "outputId": "1a622235-fc2d-43d0-a1ea-efe2b05a2d0d"
      },
      "outputs": [
        {
          "data": {
            "text/plain": [
              "'i love python'"
            ]
          },
          "execution_count": 109,
          "metadata": {},
          "output_type": "execute_result"
        }
      ],
      "source": [
        "s1"
      ]
    },
    {
      "cell_type": "code",
      "execution_count": null,
      "id": "a9f23b2b-28e3-4a2f-9454-033ebf80a99a",
      "metadata": {
        "id": "a9f23b2b-28e3-4a2f-9454-033ebf80a99a",
        "outputId": "f483376c-1c0a-45e9-b327-5e3bb3fb0742"
      },
      "outputs": [
        {
          "data": {
            "text/plain": [
              "'i love python'"
            ]
          },
          "execution_count": 114,
          "metadata": {},
          "output_type": "execute_result"
        }
      ],
      "source": [
        "s1"
      ]
    },
    {
      "cell_type": "code",
      "execution_count": null,
      "id": "2b82f30f-eae0-4ab5-a265-e9fb80c62f0b",
      "metadata": {
        "id": "2b82f30f-eae0-4ab5-a265-e9fb80c62f0b"
      },
      "outputs": [],
      "source": [
        "s2 = 'python'"
      ]
    },
    {
      "cell_type": "code",
      "execution_count": null,
      "id": "6d04686c-065b-45c0-87ea-9822880f7f8d",
      "metadata": {
        "id": "6d04686c-065b-45c0-87ea-9822880f7f8d",
        "outputId": "b1840038-7e33-4155-ea3e-237b5d62f736"
      },
      "outputs": [
        {
          "data": {
            "text/plain": [
              "(True, False)"
            ]
          },
          "execution_count": 116,
          "metadata": {},
          "output_type": "execute_result"
        }
      ],
      "source": [
        "s2.startswith('p'), s2.endswith('p')"
      ]
    },
    {
      "cell_type": "code",
      "execution_count": null,
      "id": "389e7517-c245-4bb9-ab17-29d77d701844",
      "metadata": {
        "id": "389e7517-c245-4bb9-ab17-29d77d701844",
        "outputId": "842ddc56-d5fe-443d-e17a-af8fa9582d8a"
      },
      "outputs": [
        {
          "data": {
            "text/plain": [
              "(False, True)"
            ]
          },
          "execution_count": 117,
          "metadata": {},
          "output_type": "execute_result"
        }
      ],
      "source": [
        "s2.startswith('n') , s2.endswith('n')"
      ]
    },
    {
      "cell_type": "code",
      "execution_count": null,
      "id": "950c8bac-b442-4855-a433-2137bd9eacff",
      "metadata": {
        "id": "950c8bac-b442-4855-a433-2137bd9eacff"
      },
      "outputs": [],
      "source": [
        "s3 ='   python    '"
      ]
    },
    {
      "cell_type": "code",
      "execution_count": null,
      "id": "5d9a3084-d2ca-4eb9-b455-6eae3cdaf827",
      "metadata": {
        "id": "5d9a3084-d2ca-4eb9-b455-6eae3cdaf827",
        "outputId": "5cabd68c-9e82-4a6c-e55b-579e13eb085f"
      },
      "outputs": [
        {
          "data": {
            "text/plain": [
              "('python    ', '   python', 'python')"
            ]
          },
          "execution_count": 124,
          "metadata": {},
          "output_type": "execute_result"
        }
      ],
      "source": [
        "s3.lstrip(), s3.rstrip(), s3.strip()"
      ]
    },
    {
      "cell_type": "code",
      "execution_count": null,
      "id": "70b87c80-73e3-4230-85ee-516aff8d466e",
      "metadata": {
        "id": "70b87c80-73e3-4230-85ee-516aff8d466e",
        "outputId": "a43bc5fd-cdb5-4efd-c5aa-8cbad3d69ac8"
      },
      "outputs": [
        {
          "data": {
            "text/plain": [
              "'i love python'"
            ]
          },
          "execution_count": 127,
          "metadata": {},
          "output_type": "execute_result"
        }
      ],
      "source": [
        "s1"
      ]
    },
    {
      "cell_type": "code",
      "execution_count": null,
      "id": "7caef8fb-494b-4a49-bd91-3c0be705246b",
      "metadata": {
        "id": "7caef8fb-494b-4a49-bd91-3c0be705246b",
        "outputId": "a37274bc-4406-4628-cf04-9537c4474d4f"
      },
      "outputs": [
        {
          "data": {
            "text/plain": [
              "2"
            ]
          },
          "execution_count": 126,
          "metadata": {},
          "output_type": "execute_result"
        }
      ],
      "source": [
        "s1.find('love')"
      ]
    },
    {
      "cell_type": "code",
      "execution_count": null,
      "id": "71451eb0-923b-4251-bb6a-c7df867c9033",
      "metadata": {
        "id": "71451eb0-923b-4251-bb6a-c7df867c9033",
        "outputId": "a83606d5-052f-433b-bfb7-3c07fcae3f94"
      },
      "outputs": [
        {
          "data": {
            "text/plain": [
              "-1"
            ]
          },
          "execution_count": 128,
          "metadata": {},
          "output_type": "execute_result"
        }
      ],
      "source": [
        "s1.find('hate')"
      ]
    },
    {
      "cell_type": "code",
      "execution_count": null,
      "id": "e68eb566-1cd3-4441-9348-0c3f43d624a1",
      "metadata": {
        "id": "e68eb566-1cd3-4441-9348-0c3f43d624a1"
      },
      "outputs": [],
      "source": [
        "sent = \"This is an example of using split function\""
      ]
    },
    {
      "cell_type": "code",
      "execution_count": null,
      "id": "6ae199e8-1964-487e-91d6-04a18d52e5a8",
      "metadata": {
        "id": "6ae199e8-1964-487e-91d6-04a18d52e5a8",
        "outputId": "7989d780-b15a-4211-a835-4733e4c0c6cb"
      },
      "outputs": [
        {
          "data": {
            "text/plain": [
              "['This', 'is', 'an', 'example', 'of', 'using', 'split', 'function']"
            ]
          },
          "execution_count": 140,
          "metadata": {},
          "output_type": "execute_result"
        }
      ],
      "source": [
        "word_list = sent.split()\n",
        "word_list"
      ]
    },
    {
      "cell_type": "code",
      "execution_count": null,
      "id": "5fa527a5-4c81-4aab-8c39-381d049757a0",
      "metadata": {
        "id": "5fa527a5-4c81-4aab-8c39-381d049757a0"
      },
      "outputs": [],
      "source": [
        "str1 = 'Apple|Orange|Kiwi|Banana|Mango'"
      ]
    },
    {
      "cell_type": "code",
      "execution_count": null,
      "id": "8b51c18e-26a4-4d51-b472-e852ebaece94",
      "metadata": {
        "id": "8b51c18e-26a4-4d51-b472-e852ebaece94",
        "outputId": "2299833d-32c1-4048-8306-e109eaa82f50"
      },
      "outputs": [
        {
          "data": {
            "text/plain": [
              "['Apple', 'Orange', 'Kiwi', 'Banana', 'Mango']"
            ]
          },
          "execution_count": 139,
          "metadata": {},
          "output_type": "execute_result"
        }
      ],
      "source": [
        "str1.split('|')"
      ]
    },
    {
      "cell_type": "code",
      "execution_count": null,
      "id": "d185d776-3cb0-443f-811b-229b33e893bf",
      "metadata": {
        "id": "d185d776-3cb0-443f-811b-229b33e893bf",
        "outputId": "8a7f0654-fe5b-402e-b753-c65c20e23017"
      },
      "outputs": [
        {
          "data": {
            "text/plain": [
              "'This is an example of using split function'"
            ]
          },
          "execution_count": 141,
          "metadata": {},
          "output_type": "execute_result"
        }
      ],
      "source": [
        "' '.join(word_list)"
      ]
    },
    {
      "cell_type": "code",
      "execution_count": null,
      "id": "ec7f5ffd-c80b-4694-878f-1c18d570ad6b",
      "metadata": {
        "id": "ec7f5ffd-c80b-4694-878f-1c18d570ad6b",
        "outputId": "acec2d58-e463-453b-e1d1-1e8ac3c41bc0"
      },
      "outputs": [
        {
          "data": {
            "text/plain": [
              "'This|is|an|example|of|using|split|function'"
            ]
          },
          "execution_count": 142,
          "metadata": {},
          "output_type": "execute_result"
        }
      ],
      "source": [
        "'|'.join(word_list)"
      ]
    },
    {
      "cell_type": "code",
      "execution_count": null,
      "id": "2e01b649-3829-41bf-bf5c-dd45d1cb0647",
      "metadata": {
        "id": "2e01b649-3829-41bf-bf5c-dd45d1cb0647"
      },
      "outputs": [],
      "source": []
    }
  ],
  "metadata": {
    "kernelspec": {
      "display_name": "Python (ai_env)",
      "language": "python",
      "name": "ai_env"
    },
    "language_info": {
      "codemirror_mode": {
        "name": "ipython",
        "version": 3
      },
      "file_extension": ".py",
      "mimetype": "text/x-python",
      "name": "python",
      "nbconvert_exporter": "python",
      "pygments_lexer": "ipython3",
      "version": "3.9.21"
    },
    "colab": {
      "provenance": []
    }
  },
  "nbformat": 4,
  "nbformat_minor": 5
}